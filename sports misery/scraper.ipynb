{
 "cells": [
  {
   "cell_type": "code",
   "execution_count": 34,
   "metadata": {
    "collapsed": true
   },
   "outputs": [],
   "source": [
    "from selenium import webdriver\n",
    "from bs4 import BeautifulSoup\n",
    "import requests"
   ]
  },
  {
   "cell_type": "markdown",
   "metadata": {},
   "source": [
    "![stuff](https://upload.wikimedia.org/wikipedia/commons/2/26/Precisionrecall.svg)"
   ]
  },
  {
   "cell_type": "code",
   "execution_count": 32,
   "metadata": {
    "collapsed": false,
    "scrolled": true
   },
   "outputs": [],
   "source": [
    "\n",
    "driver=webdriver.Firefox()\n",
    "\n",
    "for year in range(1903, 2016):\n",
    "    year_str=str(year)\n",
    "    url='http://www.baseball-reference.com/leagues/MLB/'+year_str+'-standings.shtml'\n",
    "    driver.get(url)\n",
    "    csv_button=driver.find_element_by_xpath(\"//*[@id='all_expanded_standings_overall']/div[1]/div/span[5]\")\n",
    "    csv_button.click()\n",
    "    doc=BeautifulSoup(driver.page_source, 'html.parser')\n",
    "    csv_table=doc.find(id='csv_expanded_standings_overall').text\n",
    "    csv_file = open('MLB/MLB_'+year_str+'.csv', \"w\")\n",
    "    csv_file.write(csv_table)\n",
    "    csv_file.close()"
   ]
  },
  {
   "cell_type": "code",
   "execution_count": 31,
   "metadata": {
    "collapsed": false
   },
   "outputs": [],
   "source": [
    "driver.close()"
   ]
  },
  {
   "cell_type": "code",
   "execution_count": 71,
   "metadata": {
    "collapsed": false
   },
   "outputs": [
    {
     "name": "stdout",
     "output_type": "stream",
     "text": [
      "1904 no series\n",
      "1994 no series\n"
     ]
    }
   ],
   "source": [
    "world_series_hist=[]\n",
    "for year in range(1903, 2016):\n",
    "    series_dict={}\n",
    "    year_str=str(year)\n",
    "    url='http://www.baseball-reference.com/leagues/MLB/'+year_str+'-standings.shtml'\n",
    "    response=requests.get(url)\n",
    "    doc=BeautifulSoup(response.text, 'html.parser')\n",
    "    wseries_tag=doc.find('tr', {'class': ''})\n",
    "    a_tags=wseries_tag.findAll('a')\n",
    "    if a_tags:\n",
    "        series_dict['year']=year_str\n",
    "        series_dict['W']=a_tags[1].text\n",
    "        series_dict['L']=a_tags[2].text\n",
    "    else:\n",
    "        series_dict['year']=year_str\n",
    "        series_dict['W']=None\n",
    "        series_dict['L']=None\n",
    "    world_series_hist.append(series_dict)\n",
    "\n"
   ]
  },
  {
   "cell_type": "code",
   "execution_count": 72,
   "metadata": {
    "collapsed": false
   },
   "outputs": [
    {
     "data": {
      "text/plain": [
       "[{'L': 'Pittsburgh Pirates', 'W': 'Boston Americans', 'year': '1903'},\n",
       " {'L': None, 'W': None, 'year': '1904'},\n",
       " {'L': 'Philadelphia Athletics', 'W': 'New York Giants', 'year': '1905'},\n",
       " {'L': 'Chicago Cubs', 'W': 'Chicago White Sox', 'year': '1906'},\n",
       " {'L': 'Detroit Tigers', 'W': 'Chicago Cubs', 'year': '1907'},\n",
       " {'L': 'Detroit Tigers', 'W': 'Chicago Cubs', 'year': '1908'},\n",
       " {'L': 'Detroit Tigers', 'W': 'Pittsburgh Pirates', 'year': '1909'},\n",
       " {'L': 'Chicago Cubs', 'W': 'Philadelphia Athletics', 'year': '1910'},\n",
       " {'L': 'New York Giants', 'W': 'Philadelphia Athletics', 'year': '1911'},\n",
       " {'L': 'New York Giants', 'W': 'Boston Red Sox', 'year': '1912'},\n",
       " {'L': 'New York Giants', 'W': 'Philadelphia Athletics', 'year': '1913'},\n",
       " {'L': 'Philadelphia Athletics', 'W': 'Boston Braves', 'year': '1914'},\n",
       " {'L': 'Philadelphia Phillies', 'W': 'Boston Red Sox', 'year': '1915'},\n",
       " {'L': 'Brooklyn Robins', 'W': 'Boston Red Sox', 'year': '1916'},\n",
       " {'L': 'New York Giants', 'W': 'Chicago White Sox', 'year': '1917'},\n",
       " {'L': 'Chicago Cubs', 'W': 'Boston Red Sox', 'year': '1918'},\n",
       " {'L': 'Chicago White Sox', 'W': 'Cincinnati Reds', 'year': '1919'},\n",
       " {'L': 'Brooklyn Robins', 'W': 'Cleveland Indians', 'year': '1920'},\n",
       " {'L': 'New York Yankees', 'W': 'New York Giants', 'year': '1921'},\n",
       " {'L': 'New York Yankees', 'W': 'New York Giants', 'year': '1922'},\n",
       " {'L': 'New York Giants', 'W': 'New York Yankees', 'year': '1923'},\n",
       " {'L': 'New York Giants', 'W': 'Washington Senators', 'year': '1924'},\n",
       " {'L': 'Washington Senators', 'W': 'Pittsburgh Pirates', 'year': '1925'},\n",
       " {'L': 'New York Yankees', 'W': 'St. Louis Cardinals', 'year': '1926'},\n",
       " {'L': 'Pittsburgh Pirates', 'W': 'New York Yankees', 'year': '1927'},\n",
       " {'L': 'St. Louis Cardinals', 'W': 'New York Yankees', 'year': '1928'},\n",
       " {'L': 'Chicago Cubs', 'W': 'Philadelphia Athletics', 'year': '1929'},\n",
       " {'L': 'St. Louis Cardinals', 'W': 'Philadelphia Athletics', 'year': '1930'},\n",
       " {'L': 'Philadelphia Athletics', 'W': 'St. Louis Cardinals', 'year': '1931'},\n",
       " {'L': 'Chicago Cubs', 'W': 'New York Yankees', 'year': '1932'},\n",
       " {'L': 'Washington Senators', 'W': 'New York Giants', 'year': '1933'},\n",
       " {'L': 'Detroit Tigers', 'W': 'St. Louis Cardinals', 'year': '1934'},\n",
       " {'L': 'Chicago Cubs', 'W': 'Detroit Tigers', 'year': '1935'},\n",
       " {'L': 'New York Giants', 'W': 'New York Yankees', 'year': '1936'},\n",
       " {'L': 'New York Giants', 'W': 'New York Yankees', 'year': '1937'},\n",
       " {'L': 'Chicago Cubs', 'W': 'New York Yankees', 'year': '1938'},\n",
       " {'L': 'Cincinnati Reds', 'W': 'New York Yankees', 'year': '1939'},\n",
       " {'L': 'Detroit Tigers', 'W': 'Cincinnati Reds', 'year': '1940'},\n",
       " {'L': 'Brooklyn Dodgers', 'W': 'New York Yankees', 'year': '1941'},\n",
       " {'L': 'New York Yankees', 'W': 'St. Louis Cardinals', 'year': '1942'},\n",
       " {'L': 'St. Louis Cardinals', 'W': 'New York Yankees', 'year': '1943'},\n",
       " {'L': 'St. Louis Browns', 'W': 'St. Louis Cardinals', 'year': '1944'},\n",
       " {'L': 'Chicago Cubs', 'W': 'Detroit Tigers', 'year': '1945'},\n",
       " {'L': 'Boston Red Sox', 'W': 'St. Louis Cardinals', 'year': '1946'},\n",
       " {'L': 'Brooklyn Dodgers', 'W': 'New York Yankees', 'year': '1947'},\n",
       " {'L': 'Boston Braves', 'W': 'Cleveland Indians', 'year': '1948'},\n",
       " {'L': 'Brooklyn Dodgers', 'W': 'New York Yankees', 'year': '1949'},\n",
       " {'L': 'Philadelphia Phillies', 'W': 'New York Yankees', 'year': '1950'},\n",
       " {'L': 'New York Giants', 'W': 'New York Yankees', 'year': '1951'},\n",
       " {'L': 'Brooklyn Dodgers', 'W': 'New York Yankees', 'year': '1952'},\n",
       " {'L': 'Brooklyn Dodgers', 'W': 'New York Yankees', 'year': '1953'},\n",
       " {'L': 'Cleveland Indians', 'W': 'New York Giants', 'year': '1954'},\n",
       " {'L': 'New York Yankees', 'W': 'Brooklyn Dodgers', 'year': '1955'},\n",
       " {'L': 'Brooklyn Dodgers', 'W': 'New York Yankees', 'year': '1956'},\n",
       " {'L': 'New York Yankees', 'W': 'Milwaukee Braves', 'year': '1957'},\n",
       " {'L': 'Milwaukee Braves', 'W': 'New York Yankees', 'year': '1958'},\n",
       " {'L': 'Chicago White Sox', 'W': 'Los Angeles Dodgers', 'year': '1959'},\n",
       " {'L': 'New York Yankees', 'W': 'Pittsburgh Pirates', 'year': '1960'},\n",
       " {'L': 'Cincinnati Reds', 'W': 'New York Yankees', 'year': '1961'},\n",
       " {'L': 'San Francisco Giants', 'W': 'New York Yankees', 'year': '1962'},\n",
       " {'L': 'New York Yankees', 'W': 'Los Angeles Dodgers', 'year': '1963'},\n",
       " {'L': 'New York Yankees', 'W': 'St. Louis Cardinals', 'year': '1964'},\n",
       " {'L': 'Minnesota Twins', 'W': 'Los Angeles Dodgers', 'year': '1965'},\n",
       " {'L': 'Los Angeles Dodgers', 'W': 'Baltimore Orioles', 'year': '1966'},\n",
       " {'L': 'Boston Red Sox', 'W': 'St. Louis Cardinals', 'year': '1967'},\n",
       " {'L': 'St. Louis Cardinals', 'W': 'Detroit Tigers', 'year': '1968'},\n",
       " {'L': 'Baltimore Orioles', 'W': 'New York Mets', 'year': '1969'},\n",
       " {'L': 'Cincinnati Reds', 'W': 'Baltimore Orioles', 'year': '1970'},\n",
       " {'L': 'Baltimore Orioles', 'W': 'Pittsburgh Pirates', 'year': '1971'},\n",
       " {'L': 'Cincinnati Reds', 'W': 'Oakland Athletics', 'year': '1972'},\n",
       " {'L': 'New York Mets', 'W': 'Oakland Athletics', 'year': '1973'},\n",
       " {'L': 'Los Angeles Dodgers', 'W': 'Oakland Athletics', 'year': '1974'},\n",
       " {'L': 'Boston Red Sox', 'W': 'Cincinnati Reds', 'year': '1975'},\n",
       " {'L': 'New York Yankees', 'W': 'Cincinnati Reds', 'year': '1976'},\n",
       " {'L': 'Los Angeles Dodgers', 'W': 'New York Yankees', 'year': '1977'},\n",
       " {'L': 'Los Angeles Dodgers', 'W': 'New York Yankees', 'year': '1978'},\n",
       " {'L': 'Baltimore Orioles', 'W': 'Pittsburgh Pirates', 'year': '1979'},\n",
       " {'L': 'Kansas City Royals', 'W': 'Philadelphia Phillies', 'year': '1980'},\n",
       " {'L': 'New York Yankees', 'W': 'Los Angeles Dodgers', 'year': '1981'},\n",
       " {'L': 'Milwaukee Brewers', 'W': 'St. Louis Cardinals', 'year': '1982'},\n",
       " {'L': 'Philadelphia Phillies', 'W': 'Baltimore Orioles', 'year': '1983'},\n",
       " {'L': 'San Diego Padres', 'W': 'Detroit Tigers', 'year': '1984'},\n",
       " {'L': 'St. Louis Cardinals', 'W': 'Kansas City Royals', 'year': '1985'},\n",
       " {'L': 'Boston Red Sox', 'W': 'New York Mets', 'year': '1986'},\n",
       " {'L': 'St. Louis Cardinals', 'W': 'Minnesota Twins', 'year': '1987'},\n",
       " {'L': 'Oakland Athletics', 'W': 'Los Angeles Dodgers', 'year': '1988'},\n",
       " {'L': 'San Francisco Giants', 'W': 'Oakland Athletics', 'year': '1989'},\n",
       " {'L': 'Oakland Athletics', 'W': 'Cincinnati Reds', 'year': '1990'},\n",
       " {'L': 'Atlanta Braves', 'W': 'Minnesota Twins', 'year': '1991'},\n",
       " {'L': 'Atlanta Braves', 'W': 'Toronto Blue Jays', 'year': '1992'},\n",
       " {'L': 'Philadelphia Phillies', 'W': 'Toronto Blue Jays', 'year': '1993'},\n",
       " {'L': None, 'W': None, 'year': '1994'},\n",
       " {'L': 'Cleveland Indians', 'W': 'Atlanta Braves', 'year': '1995'},\n",
       " {'L': 'Atlanta Braves', 'W': 'New York Yankees', 'year': '1996'},\n",
       " {'L': 'Cleveland Indians', 'W': 'Florida Marlins', 'year': '1997'},\n",
       " {'L': 'San Diego Padres', 'W': 'New York Yankees', 'year': '1998'},\n",
       " {'L': 'Atlanta Braves', 'W': 'New York Yankees', 'year': '1999'},\n",
       " {'L': 'New York Mets', 'W': 'New York Yankees', 'year': '2000'},\n",
       " {'L': 'New York Yankees', 'W': 'Arizona Diamondbacks', 'year': '2001'},\n",
       " {'L': 'San Francisco Giants', 'W': 'Anaheim Angels', 'year': '2002'},\n",
       " {'L': 'New York Yankees', 'W': 'Florida Marlins', 'year': '2003'},\n",
       " {'L': 'St. Louis Cardinals', 'W': 'Boston Red Sox', 'year': '2004'},\n",
       " {'L': 'Houston Astros', 'W': 'Chicago White Sox', 'year': '2005'},\n",
       " {'L': 'Detroit Tigers', 'W': 'St. Louis Cardinals', 'year': '2006'},\n",
       " {'L': 'Colorado Rockies', 'W': 'Boston Red Sox', 'year': '2007'},\n",
       " {'L': 'Tampa Bay Rays', 'W': 'Philadelphia Phillies', 'year': '2008'},\n",
       " {'L': 'Philadelphia Phillies', 'W': 'New York Yankees', 'year': '2009'},\n",
       " {'L': 'Texas Rangers', 'W': 'San Francisco Giants', 'year': '2010'},\n",
       " {'L': 'Texas Rangers', 'W': 'St. Louis Cardinals', 'year': '2011'},\n",
       " {'L': 'Detroit Tigers', 'W': 'San Francisco Giants', 'year': '2012'},\n",
       " {'L': 'St. Louis Cardinals', 'W': 'Boston Red Sox', 'year': '2013'},\n",
       " {'L': 'Kansas City Royals', 'W': 'San Francisco Giants', 'year': '2014'},\n",
       " {'L': 'New York Mets', 'W': 'Kansas City Royals', 'year': '2015'}]"
      ]
     },
     "execution_count": 72,
     "metadata": {},
     "output_type": "execute_result"
    }
   ],
   "source": [
    "world_series_hist"
   ]
  },
  {
   "cell_type": "code",
   "execution_count": 65,
   "metadata": {
    "collapsed": true
   },
   "outputs": [],
   "source": [
    "dicto={}\n",
    "dicto['thing']='stuff'"
   ]
  },
  {
   "cell_type": "code",
   "execution_count": 66,
   "metadata": {
    "collapsed": false
   },
   "outputs": [
    {
     "data": {
      "text/plain": [
       "{'thing': 'stuff'}"
      ]
     },
     "execution_count": 66,
     "metadata": {},
     "output_type": "execute_result"
    }
   ],
   "source": [
    "dicto"
   ]
  },
  {
   "cell_type": "code",
   "execution_count": null,
   "metadata": {
    "collapsed": true
   },
   "outputs": [],
   "source": []
  }
 ],
 "metadata": {
  "kernelspec": {
   "display_name": "IPython (Python 3)",
   "language": "python",
   "name": "python3"
  },
  "language_info": {
   "codemirror_mode": {
    "name": "ipython",
    "version": 3
   },
   "file_extension": ".py",
   "mimetype": "text/x-python",
   "name": "python",
   "nbconvert_exporter": "python",
   "pygments_lexer": "ipython3",
   "version": "3.5.1+"
  }
 },
 "nbformat": 4,
 "nbformat_minor": 0
}
