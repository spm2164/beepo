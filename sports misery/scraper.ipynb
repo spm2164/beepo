{
 "cells": [
  {
   "cell_type": "code",
   "execution_count": 32,
   "metadata": {
    "collapsed": false,
    "scrolled": true
   },
   "outputs": [],
   "source": [
    "from selenium import webdriver\n",
    "from bs4 import BeautifulSoup\n",
    "driver=webdriver.Firefox()\n",
    "\n",
    "for year in range(2014, 2016):\n",
    "    year_str=str(year)\n",
    "    url='http://www.baseball-reference.com/leagues/MLB/'+year_str+'-standings.shtml'\n",
    "    driver.get(url)\n",
    "    csv_button=driver.find_element_by_xpath(\"//*[@id='all_expanded_standings_overall']/div[1]/div/span[5]\")\n",
    "    csv_button.click()\n",
    "    doc=BeautifulSoup(driver.page_source, 'html.parser')\n",
    "    csv_table=doc.find(id='csv_expanded_standings_overall').text\n",
    "    csv_file = open('MLB/MLB_'+year_str+'.csv', \"w\")\n",
    "    csv_file.write(csv_table)\n",
    "    csv_file.close()"
   ]
  },
  {
   "cell_type": "code",
   "execution_count": 31,
   "metadata": {
    "collapsed": false
   },
   "outputs": [],
   "source": [
    "driver.close()"
   ]
  },
  {
   "cell_type": "code",
   "execution_count": null,
   "metadata": {
    "collapsed": true
   },
   "outputs": [],
   "source": [
    "for year in range(2014, 2016):\n",
    "    print(year)"
   ]
  }
 ],
 "metadata": {
  "kernelspec": {
   "display_name": "IPython (Python 3)",
   "language": "python",
   "name": "python3"
  },
  "language_info": {
   "codemirror_mode": {
    "name": "ipython",
    "version": 3
   },
   "file_extension": ".py",
   "mimetype": "text/x-python",
   "name": "python",
   "nbconvert_exporter": "python",
   "pygments_lexer": "ipython3",
   "version": "3.5.1+"
  }
 },
 "nbformat": 4,
 "nbformat_minor": 0
}
