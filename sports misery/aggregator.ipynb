{
 "cells": [
  {
   "cell_type": "code",
   "execution_count": 13,
   "metadata": {
    "collapsed": true
   },
   "outputs": [],
   "source": [
    "import pandas as pd\n",
    "import matplotlib.pyplot as plt\n",
    "%matplotlib inline"
   ]
  },
  {
   "cell_type": "code",
   "execution_count": 61,
   "metadata": {
    "collapsed": true
   },
   "outputs": [],
   "source": [
    "cle=[]\n",
    "for year in range(1903, 2015):\n",
    "    season={}\n",
    "    year_str=str(year)\n",
    "    df=pd.read_csv('MLB/MLB_'+year_str+'.csv')\n",
    "    season['year']=year\n",
    "    season['W']=int(df[df['Tm']=='CLE']['W'])\n",
    "    season['L']=int(df[df['Tm']=='CLE']['L'])\n",
    "    season['Rk']=int(df[df['Tm']=='CLE']['Rk'])\n",
    "    season['W-L%']=float(df[df['Tm']=='CLE']['W-L%'])\n",
    "    cle.append(season)"
   ]
  },
  {
   "cell_type": "code",
   "execution_count": 62,
   "metadata": {
    "collapsed": false
   },
   "outputs": [],
   "source": [
    "df=pd.DataFrame(cle)"
   ]
  },
  {
   "cell_type": "code",
   "execution_count": 63,
   "metadata": {
    "collapsed": false,
    "scrolled": true
   },
   "outputs": [
    {
     "data": {
      "text/plain": [
       "112"
      ]
     },
     "execution_count": 63,
     "metadata": {},
     "output_type": "execute_result"
    }
   ],
   "source": [
    "len(df)"
   ]
  },
  {
   "cell_type": "code",
   "execution_count": 64,
   "metadata": {
    "collapsed": false,
    "scrolled": true
   },
   "outputs": [
    {
     "data": {
      "text/html": [
       "<div>\n",
       "<table border=\"1\" class=\"dataframe\">\n",
       "  <thead>\n",
       "    <tr style=\"text-align: right;\">\n",
       "      <th></th>\n",
       "      <th>L</th>\n",
       "      <th>Rk</th>\n",
       "      <th>W</th>\n",
       "      <th>W-L%</th>\n",
       "      <th>year</th>\n",
       "    </tr>\n",
       "  </thead>\n",
       "  <tbody>\n",
       "    <tr>\n",
       "      <th>0</th>\n",
       "      <td>63</td>\n",
       "      <td>6</td>\n",
       "      <td>77</td>\n",
       "      <td>0.550</td>\n",
       "      <td>1903</td>\n",
       "    </tr>\n",
       "    <tr>\n",
       "      <th>1</th>\n",
       "      <td>65</td>\n",
       "      <td>7</td>\n",
       "      <td>86</td>\n",
       "      <td>0.570</td>\n",
       "      <td>1904</td>\n",
       "    </tr>\n",
       "    <tr>\n",
       "      <th>2</th>\n",
       "      <td>78</td>\n",
       "      <td>10</td>\n",
       "      <td>76</td>\n",
       "      <td>0.493</td>\n",
       "      <td>1905</td>\n",
       "    </tr>\n",
       "    <tr>\n",
       "      <th>3</th>\n",
       "      <td>64</td>\n",
       "      <td>6</td>\n",
       "      <td>89</td>\n",
       "      <td>0.582</td>\n",
       "      <td>1906</td>\n",
       "    </tr>\n",
       "    <tr>\n",
       "      <th>4</th>\n",
       "      <td>67</td>\n",
       "      <td>7</td>\n",
       "      <td>85</td>\n",
       "      <td>0.559</td>\n",
       "      <td>1907</td>\n",
       "    </tr>\n",
       "  </tbody>\n",
       "</table>\n",
       "</div>"
      ],
      "text/plain": [
       "    L  Rk   W   W-L%  year\n",
       "0  63   6  77  0.550  1903\n",
       "1  65   7  86  0.570  1904\n",
       "2  78  10  76  0.493  1905\n",
       "3  64   6  89  0.582  1906\n",
       "4  67   7  85  0.559  1907"
      ]
     },
     "execution_count": 64,
     "metadata": {},
     "output_type": "execute_result"
    }
   ],
   "source": [
    "df.head()"
   ]
  },
  {
   "cell_type": "code",
   "execution_count": 65,
   "metadata": {
    "collapsed": false,
    "scrolled": true
   },
   "outputs": [],
   "source": [
    "df.index=df['year']"
   ]
  },
  {
   "cell_type": "code",
   "execution_count": 66,
   "metadata": {
    "collapsed": false
   },
   "outputs": [
    {
     "data": {
      "text/html": [
       "<div>\n",
       "<table border=\"1\" class=\"dataframe\">\n",
       "  <thead>\n",
       "    <tr style=\"text-align: right;\">\n",
       "      <th></th>\n",
       "      <th>L</th>\n",
       "      <th>Rk</th>\n",
       "      <th>W</th>\n",
       "      <th>W-L%</th>\n",
       "      <th>year</th>\n",
       "    </tr>\n",
       "    <tr>\n",
       "      <th>year</th>\n",
       "      <th></th>\n",
       "      <th></th>\n",
       "      <th></th>\n",
       "      <th></th>\n",
       "      <th></th>\n",
       "    </tr>\n",
       "  </thead>\n",
       "  <tbody>\n",
       "    <tr>\n",
       "      <th>1903</th>\n",
       "      <td>63</td>\n",
       "      <td>6</td>\n",
       "      <td>77</td>\n",
       "      <td>0.550</td>\n",
       "      <td>1903</td>\n",
       "    </tr>\n",
       "    <tr>\n",
       "      <th>1904</th>\n",
       "      <td>65</td>\n",
       "      <td>7</td>\n",
       "      <td>86</td>\n",
       "      <td>0.570</td>\n",
       "      <td>1904</td>\n",
       "    </tr>\n",
       "    <tr>\n",
       "      <th>1905</th>\n",
       "      <td>78</td>\n",
       "      <td>10</td>\n",
       "      <td>76</td>\n",
       "      <td>0.493</td>\n",
       "      <td>1905</td>\n",
       "    </tr>\n",
       "    <tr>\n",
       "      <th>1906</th>\n",
       "      <td>64</td>\n",
       "      <td>6</td>\n",
       "      <td>89</td>\n",
       "      <td>0.582</td>\n",
       "      <td>1906</td>\n",
       "    </tr>\n",
       "    <tr>\n",
       "      <th>1907</th>\n",
       "      <td>67</td>\n",
       "      <td>7</td>\n",
       "      <td>85</td>\n",
       "      <td>0.559</td>\n",
       "      <td>1907</td>\n",
       "    </tr>\n",
       "  </tbody>\n",
       "</table>\n",
       "</div>"
      ],
      "text/plain": [
       "       L  Rk   W   W-L%  year\n",
       "year                         \n",
       "1903  63   6  77  0.550  1903\n",
       "1904  65   7  86  0.570  1904\n",
       "1905  78  10  76  0.493  1905\n",
       "1906  64   6  89  0.582  1906\n",
       "1907  67   7  85  0.559  1907"
      ]
     },
     "execution_count": 66,
     "metadata": {},
     "output_type": "execute_result"
    }
   ],
   "source": [
    "df.head()"
   ]
  },
  {
   "cell_type": "code",
   "execution_count": 67,
   "metadata": {
    "collapsed": false
   },
   "outputs": [
    {
     "data": {
      "image/png": "[encoded data removed]",
      "text/plain": [
       "<matplotlib.figure.Figure at 0x7f0cae5f45c0>"
      ]
     },
     "metadata": {},
     "output_type": "display_data"
    }
   ],
   "source": [
    "ax=df.plot(x='year', y='W-L%')"
   ]
  },
  {
   "cell_type": "code",
   "execution_count": 69,
   "metadata": {
    "collapsed": false
   },
   "outputs": [],
   "source": [
    "misery=[]\n",
    "total_misery=0\n",
    "for row in df['W-L%']:\n",
    "    if row>=0.7:\n",
    "        total_misery-=1\n",
    "        misery.append(total_misery)\n",
    "    elif row>=0.55:\n",
    "        total_misery-=0.5\n",
    "        misery.append(total_misery)\n",
    "    elif row>=0.4:\n",
    "        total_misery+=0.5\n",
    "        misery.append(total_misery)\n",
    "    else:\n",
    "        total_misery+=1\n",
    "        misery.append(total_misery)\n",
    "df['misery']=misery"
   ]
  },
  {
   "cell_type": "code",
   "execution_count": 70,
   "metadata": {
    "collapsed": false
   },
   "outputs": [
    {
     "data": {
      "text/html": [
       "<div>\n",
       "<table border=\"1\" class=\"dataframe\">\n",
       "  <thead>\n",
       "    <tr style=\"text-align: right;\">\n",
       "      <th></th>\n",
       "      <th>L</th>\n",
       "      <th>Rk</th>\n",
       "      <th>W</th>\n",
       "      <th>W-L%</th>\n",
       "      <th>year</th>\n",
       "      <th>misery</th>\n",
       "    </tr>\n",
       "    <tr>\n",
       "      <th>year</th>\n",
       "      <th></th>\n",
       "      <th></th>\n",
       "      <th></th>\n",
       "      <th></th>\n",
       "      <th></th>\n",
       "      <th></th>\n",
       "    </tr>\n",
       "  </thead>\n",
       "  <tbody>\n",
       "    <tr>\n",
       "      <th>1903</th>\n",
       "      <td>63</td>\n",
       "      <td>6</td>\n",
       "      <td>77</td>\n",
       "      <td>0.550</td>\n",
       "      <td>1903</td>\n",
       "      <td>-0.5</td>\n",
       "    </tr>\n",
       "    <tr>\n",
       "      <th>1904</th>\n",
       "      <td>65</td>\n",
       "      <td>7</td>\n",
       "      <td>86</td>\n",
       "      <td>0.570</td>\n",
       "      <td>1904</td>\n",
       "      <td>-1.0</td>\n",
       "    </tr>\n",
       "    <tr>\n",
       "      <th>1905</th>\n",
       "      <td>78</td>\n",
       "      <td>10</td>\n",
       "      <td>76</td>\n",
       "      <td>0.493</td>\n",
       "      <td>1905</td>\n",
       "      <td>-0.5</td>\n",
       "    </tr>\n",
       "    <tr>\n",
       "      <th>1906</th>\n",
       "      <td>64</td>\n",
       "      <td>6</td>\n",
       "      <td>89</td>\n",
       "      <td>0.582</td>\n",
       "      <td>1906</td>\n",
       "      <td>-1.0</td>\n",
       "    </tr>\n",
       "    <tr>\n",
       "      <th>1907</th>\n",
       "      <td>67</td>\n",
       "      <td>7</td>\n",
       "      <td>85</td>\n",
       "      <td>0.559</td>\n",
       "      <td>1907</td>\n",
       "      <td>-1.5</td>\n",
       "    </tr>\n",
       "  </tbody>\n",
       "</table>\n",
       "</div>"
      ],
      "text/plain": [
       "       L  Rk   W   W-L%  year  misery\n",
       "year                                 \n",
       "1903  63   6  77  0.550  1903    -0.5\n",
       "1904  65   7  86  0.570  1904    -1.0\n",
       "1905  78  10  76  0.493  1905    -0.5\n",
       "1906  64   6  89  0.582  1906    -1.0\n",
       "1907  67   7  85  0.559  1907    -1.5"
      ]
     },
     "execution_count": 70,
     "metadata": {},
     "output_type": "execute_result"
    }
   ],
   "source": [
    "df.head()"
   ]
  },
  {
   "cell_type": "code",
   "execution_count": 71,
   "metadata": {
    "collapsed": false
   },
   "outputs": [
    {
     "data": {
      "text/plain": [
       "<matplotlib.axes._subplots.AxesSubplot at 0x7f0cae6324a8>"
      ]
     },
     "execution_count": 71,
     "metadata": {},
     "output_type": "execute_result"
    },
    {
     "data": {
      "image/png": "[encoded data removed]",
      "text/plain": [
       "<matplotlib.figure.Figure at 0x7f0cae5f4c50>"
      ]
     },
     "metadata": {},
     "output_type": "display_data"
    }
   ],
   "source": [
    "df.plot(x='year', y='misery')"
   ]
  },
  {
   "cell_type": "code",
   "execution_count": null,
   "metadata": {
    "collapsed": true
   },
   "outputs": [],
   "source": []
  }
 ],
 "metadata": {
  "kernelspec": {
   "display_name": "IPython (Python 3)",
   "language": "python",
   "name": "python3"
  },
  "language_info": {
   "codemirror_mode": {
    "name": "ipython",
    "version": 3
   },
   "file_extension": ".py",
   "mimetype": "text/x-python",
   "name": "python",
   "nbconvert_exporter": "python",
   "pygments_lexer": "ipython3",
   "version": "3.5.1+"
  }
 },
 "nbformat": 4,
 "nbformat_minor": 0
}
