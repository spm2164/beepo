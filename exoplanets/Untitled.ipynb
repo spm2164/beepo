{
 "cells": [
  {
   "cell_type": "code",
   "execution_count": 1,
   "metadata": {
    "collapsed": false
   },
   "outputs": [],
   "source": [
    "import pandas as pd\n",
    "import matplotlib.pyplot as plt\n",
    "import re\n",
    "%matplotlib inline"
   ]
  },
  {
   "cell_type": "code",
   "execution_count": 182,
   "metadata": {
    "collapsed": false
   },
   "outputs": [],
   "source": [
    "df = pd.read_csv('phl_hec_pared.csv')"
   ]
  },
  {
   "cell_type": "code",
   "execution_count": 183,
   "metadata": {
    "collapsed": false
   },
   "outputs": [
    {
     "data": {
      "text/html": [
       "<div>\n",
       "<table border=\"1\" class=\"dataframe\">\n",
       "  <thead>\n",
       "    <tr style=\"text-align: right;\">\n",
       "      <th></th>\n",
       "      <th>P. Name</th>\n",
       "      <th>P. Mass Class</th>\n",
       "      <th>P. Habitable Class</th>\n",
       "      <th>P. Mass (EU)</th>\n",
       "      <th>P. Radius (EU)</th>\n",
       "      <th>P. Density (EU)</th>\n",
       "      <th>P. Gravity (EU)</th>\n",
       "      <th>P. Esc Vel (EU)</th>\n",
       "      <th>P. Teq Min (K)</th>\n",
       "      <th>P. Teq Mean (K)</th>\n",
       "      <th>...</th>\n",
       "      <th>S. Luminosity (SU)</th>\n",
       "      <th>S. Age (Gyrs)</th>\n",
       "      <th>S. Distance (pc)</th>\n",
       "      <th>S. No. Planets</th>\n",
       "      <th>S. No. Planets HZ</th>\n",
       "      <th>S. Hab Zone Min (AU)</th>\n",
       "      <th>S. Hab Zone Max (AU)</th>\n",
       "      <th>P. ESI</th>\n",
       "      <th>P. Habitable</th>\n",
       "      <th>P. Hab Moon</th>\n",
       "    </tr>\n",
       "  </thead>\n",
       "  <tbody>\n",
       "    <tr>\n",
       "      <th>0</th>\n",
       "      <td>1RXS 1609 b</td>\n",
       "      <td>Jovian</td>\n",
       "      <td>non-habitable</td>\n",
       "      <td>4451.16</td>\n",
       "      <td>19.04</td>\n",
       "      <td>0.64</td>\n",
       "      <td>12.28</td>\n",
       "      <td>15.29</td>\n",
       "      <td>11.4</td>\n",
       "      <td>11.4</td>\n",
       "      <td>...</td>\n",
       "      <td>0.444285</td>\n",
       "      <td>0.011</td>\n",
       "      <td>145.0</td>\n",
       "      <td>1</td>\n",
       "      <td>0</td>\n",
       "      <td>0.540</td>\n",
       "      <td>1.362</td>\n",
       "      <td>0.05</td>\n",
       "      <td>0</td>\n",
       "      <td>0</td>\n",
       "    </tr>\n",
       "    <tr>\n",
       "      <th>1</th>\n",
       "      <td>1SWASP J1407 b</td>\n",
       "      <td>Jovian</td>\n",
       "      <td>non-habitable</td>\n",
       "      <td>6358.80</td>\n",
       "      <td>10.94</td>\n",
       "      <td>4.86</td>\n",
       "      <td>53.12</td>\n",
       "      <td>24.11</td>\n",
       "      <td>97.7</td>\n",
       "      <td>97.7</td>\n",
       "      <td>...</td>\n",
       "      <td>0.329588</td>\n",
       "      <td>0.016</td>\n",
       "      <td>133.0</td>\n",
       "      <td>1</td>\n",
       "      <td>0</td>\n",
       "      <td>0.461</td>\n",
       "      <td>1.143</td>\n",
       "      <td>0.07</td>\n",
       "      <td>0</td>\n",
       "      <td>0</td>\n",
       "    </tr>\n",
       "    <tr>\n",
       "      <th>2</th>\n",
       "      <td>2M 0103-55(AB) b</td>\n",
       "      <td>Jovian</td>\n",
       "      <td>non-habitable</td>\n",
       "      <td>4133.22</td>\n",
       "      <td>11.40</td>\n",
       "      <td>2.79</td>\n",
       "      <td>31.79</td>\n",
       "      <td>19.04</td>\n",
       "      <td>11.4</td>\n",
       "      <td>11.4</td>\n",
       "      <td>...</td>\n",
       "      <td>0.027955</td>\n",
       "      <td>0.030</td>\n",
       "      <td>47.2</td>\n",
       "      <td>1</td>\n",
       "      <td>0</td>\n",
       "      <td>0.136</td>\n",
       "      <td>0.347</td>\n",
       "      <td>0.06</td>\n",
       "      <td>0</td>\n",
       "      <td>0</td>\n",
       "    </tr>\n",
       "    <tr>\n",
       "      <th>3</th>\n",
       "      <td>2M 0122-24 b</td>\n",
       "      <td>Jovian</td>\n",
       "      <td>non-habitable</td>\n",
       "      <td>6358.80</td>\n",
       "      <td>11.20</td>\n",
       "      <td>4.53</td>\n",
       "      <td>50.69</td>\n",
       "      <td>23.83</td>\n",
       "      <td>14.4</td>\n",
       "      <td>14.4</td>\n",
       "      <td>...</td>\n",
       "      <td>0.027955</td>\n",
       "      <td>0.120</td>\n",
       "      <td>36.0</td>\n",
       "      <td>1</td>\n",
       "      <td>0</td>\n",
       "      <td>0.136</td>\n",
       "      <td>0.347</td>\n",
       "      <td>0.08</td>\n",
       "      <td>0</td>\n",
       "      <td>0</td>\n",
       "    </tr>\n",
       "    <tr>\n",
       "      <th>4</th>\n",
       "      <td>2M 0219-39 b</td>\n",
       "      <td>Jovian</td>\n",
       "      <td>non-habitable</td>\n",
       "      <td>4419.37</td>\n",
       "      <td>16.13</td>\n",
       "      <td>1.05</td>\n",
       "      <td>16.99</td>\n",
       "      <td>16.55</td>\n",
       "      <td>5.6</td>\n",
       "      <td>5.6</td>\n",
       "      <td>...</td>\n",
       "      <td>0.005765</td>\n",
       "      <td>NaN</td>\n",
       "      <td>39.4</td>\n",
       "      <td>1</td>\n",
       "      <td>0</td>\n",
       "      <td>0.062</td>\n",
       "      <td>0.165</td>\n",
       "      <td>0.06</td>\n",
       "      <td>0</td>\n",
       "      <td>0</td>\n",
       "    </tr>\n",
       "  </tbody>\n",
       "</table>\n",
       "<p>5 rows × 31 columns</p>\n",
       "</div>"
      ],
      "text/plain": [
       "            P. Name P. Mass Class P. Habitable Class  P. Mass (EU)  \\\n",
       "0       1RXS 1609 b        Jovian      non-habitable       4451.16   \n",
       "1    1SWASP J1407 b        Jovian      non-habitable       6358.80   \n",
       "2  2M 0103-55(AB) b        Jovian      non-habitable       4133.22   \n",
       "3      2M 0122-24 b        Jovian      non-habitable       6358.80   \n",
       "4      2M 0219-39 b        Jovian      non-habitable       4419.37   \n",
       "\n",
       "   P. Radius (EU)  P. Density (EU)  P. Gravity (EU)  P. Esc Vel (EU)  \\\n",
       "0           19.04             0.64            12.28            15.29   \n",
       "1           10.94             4.86            53.12            24.11   \n",
       "2           11.40             2.79            31.79            19.04   \n",
       "3           11.20             4.53            50.69            23.83   \n",
       "4           16.13             1.05            16.99            16.55   \n",
       "\n",
       "   P. Teq Min (K)  P. Teq Mean (K)     ...       S. Luminosity (SU)  \\\n",
       "0            11.4             11.4     ...                 0.444285   \n",
       "1            97.7             97.7     ...                 0.329588   \n",
       "2            11.4             11.4     ...                 0.027955   \n",
       "3            14.4             14.4     ...                 0.027955   \n",
       "4             5.6              5.6     ...                 0.005765   \n",
       "\n",
       "   S. Age (Gyrs)  S. Distance (pc)  S. No. Planets  S. No. Planets HZ  \\\n",
       "0          0.011             145.0               1                  0   \n",
       "1          0.016             133.0               1                  0   \n",
       "2          0.030              47.2               1                  0   \n",
       "3          0.120              36.0               1                  0   \n",
       "4            NaN              39.4               1                  0   \n",
       "\n",
       "  S. Hab Zone Min (AU) S. Hab Zone Max (AU) P. ESI  P. Habitable  P. Hab Moon  \n",
       "0                0.540                1.362   0.05             0            0  \n",
       "1                0.461                1.143   0.07             0            0  \n",
       "2                0.136                0.347   0.06             0            0  \n",
       "3                0.136                0.347   0.08             0            0  \n",
       "4                0.062                0.165   0.06             0            0  \n",
       "\n",
       "[5 rows x 31 columns]"
      ]
     },
     "execution_count": 183,
     "metadata": {},
     "output_type": "execute_result"
    }
   ],
   "source": [
    "df.head()"
   ]
  },
  {
   "cell_type": "code",
   "execution_count": 184,
   "metadata": {
    "collapsed": false
   },
   "outputs": [
    {
     "data": {
      "text/plain": [
       "3408"
      ]
     },
     "execution_count": 184,
     "metadata": {},
     "output_type": "execute_result"
    }
   ],
   "source": [
    "len(df)"
   ]
  },
  {
   "cell_type": "code",
   "execution_count": 148,
   "metadata": {
    "collapsed": false
   },
   "outputs": [
    {
     "data": {
      "text/plain": [
       "Index(['P. Name', 'P. Mass Class', 'P. Habitable Class', 'P. Mass (EU)',\n",
       "       'P. Radius (EU)', 'P. Density (EU)', 'P. Gravity (EU)',\n",
       "       'P. Esc Vel (EU)', 'P. Teq Min (K)', 'P. Teq Mean (K)',\n",
       "       'P. Teq Max (K)', 'P. Surf Press (EU)', 'P. Period (days)',\n",
       "       'P. Sem Major Axis (AU)', 'P. Mean Distance (AU)', 'S. Name',\n",
       "       'S. Constellation', 'S. Type', 'S. Mass (SU)', 'S. Radius (SU)',\n",
       "       'S. Teff (K)', 'S. Luminosity (SU)', 'S. Age (Gyrs)',\n",
       "       'S. Distance (pc)', 'S. No. Planets', 'S. No. Planets HZ',\n",
       "       'S. Hab Zone Min (AU)', 'S. Hab Zone Max (AU)', 'P. ESI',\n",
       "       'P. Habitable', 'P. Hab Moon'],\n",
       "      dtype='object')"
      ]
     },
     "execution_count": 148,
     "metadata": {},
     "output_type": "execute_result"
    }
   ],
   "source": [
    "df.columns"
   ]
  },
  {
   "cell_type": "code",
   "execution_count": 73,
   "metadata": {
    "collapsed": true
   },
   "outputs": [],
   "source": [
    "zodiac = \"1. Aquarius, the water bearer 2. Aries, the ram 3. Cancer, the crab 4. Capricorn, the goat 5. Gemini, the twins 6. Leo, the lion 7. Libra, the scales 8. Pisces, the fish 9. Sagittarius, the archer 10. Scorpio, the scorpion 11. Taurus, the bull 12.Virgo, the virgin\""
   ]
  },
  {
   "cell_type": "code",
   "execution_count": 58,
   "metadata": {
    "collapsed": true
   },
   "outputs": [],
   "source": [
    "north_h = \"1. Andromeda, the princess 2. Antlia, the pump 3. Aquila, the eagle 4. Auriga, the chariot driver 5. Bootes, the herdsman 6. Caelum, the chisel 7. Camelopardalis, the giraffe 8. Canes Venatici, the hunting dogs 9. Canis Major, the big dog 10. Canis Minor, the little dog 11. Cassiopeia, the queen 12. Cepheus, the king 13. Cetus, the whale 14. Columba, the dove 15. Coma Berenices, Berenice's hair 16. Corona Australis, the southern crown 17. Corona Borealis, the northern crown 18. Corvus, the crow 19. Crater, the cup 20. Cygnus, the swan 21. Delphinus, the dolphin 22. Draco, the dragon 23. Equuleus, the little horse 24. Fornax, the furnace 25. Hercules, the hero 26. Horologium, the clock 27. Hydra, the water snake 28. Lacerta, the lizard 29. Leo Minor, the little lion 30. Lupus, the wolf 31. Lynx, the lynx 32. Lyra, the harp 33. Microscopium, the microscope 34. Monoceros, the unicorn 35. Ophiuchus, the sepent holder 36. Orion, the hunter 37. Pegasus, the flying horse 38. Perseus, the Medusa killer 39. Piscis Australis, the southern fish 40. Puppis, the ship's stern 41. Pyxis, the ship's compass 42. Sagitta, the arrow 43. Sculptor, the sculptor 44. Scutum, the shield 45. Serpens, the snake 46. Sextans, the sextant 47. Telescopium, the telescope 48. Triangulum, the triangle 49. Ursa Major, the big bear 50. Ursa Minor, the little bear 51. Vulpecula, the little fox\""
   ]
  },
  {
   "cell_type": "code",
   "execution_count": 59,
   "metadata": {
    "collapsed": true
   },
   "outputs": [],
   "source": [
    "south_h = \"1. Apus, the bird of paradise 2. Ara, the altar 3. Carina, the ship's keel 4. Centaurus, the centaur 5. Chamaeleon, the chameleon 6. Circinus, the compass 7. Crux, the southern cross 8. Dorado, the swordfish 9. Eridanus, the river 10. Grus, the crane 11. Hydrus, the water snake 12. Indus, the Indian 13. Lepus, the rabbit 14. Mensa, the table 15. Musca, the fly 16. Norma, the surveyor's level 17. Octans, the octant 19. Pavo, the peacock 20. Phoenix, the phoenix 21. Pictor, the easel 22. Reticulum, the net 23. Triangulum Australe, the southern triangle 24. Tucana, the toucan 25. Vela, the ship's sails 26. Volans, the flying fish\""
   ]
  },
  {
   "cell_type": "code",
   "execution_count": 60,
   "metadata": {
    "collapsed": false
   },
   "outputs": [
    {
     "data": {
      "text/plain": [
       "Series([], Name: S. Constellation, dtype: int64)"
      ]
     },
     "execution_count": 60,
     "metadata": {},
     "output_type": "execute_result"
    }
   ],
   "source": [
    "df[df['S. Constellation'].apply(lambda x: not x in south_h and not x in north_h and not x in zodiac)]['S. Constellation'].value_counts()"
   ]
  },
  {
   "cell_type": "code",
   "execution_count": 233,
   "metadata": {
    "collapsed": true
   },
   "outputs": [],
   "source": [
    "df_zod=df[df['S. Constellation'].apply(lambda x: x in zodiac and not x=='Sagitta')] "
   ]
  },
  {
   "cell_type": "code",
   "execution_count": 234,
   "metadata": {
    "collapsed": true
   },
   "outputs": [],
   "source": [
    "df_nh=df[df['S. Constellation'].apply(lambda x: x in north_h)]"
   ]
  },
  {
   "cell_type": "code",
   "execution_count": 235,
   "metadata": {
    "collapsed": true
   },
   "outputs": [],
   "source": [
    "df_sh=df[df['S. Constellation'].apply(lambda x: x in south_h)]"
   ]
  },
  {
   "cell_type": "code",
   "execution_count": 188,
   "metadata": {
    "collapsed": false
   },
   "outputs": [
    {
     "data": {
      "text/plain": [
       "Jovian         1036\n",
       "Superterran     908\n",
       "Neptunian       744\n",
       "Terran          646\n",
       "Subterran        68\n",
       "Mercurian         6\n",
       "Name: P. Mass Class, dtype: int64"
      ]
     },
     "execution_count": 188,
     "metadata": {},
     "output_type": "execute_result"
    }
   ],
   "source": [
    "df['P. Mass Class'].value_counts()"
   ]
  },
  {
   "cell_type": "code",
   "execution_count": 314,
   "metadata": {
    "collapsed": false
   },
   "outputs": [
    {
     "data": {
      "text/plain": [
       "320"
      ]
     },
     "execution_count": 314,
     "metadata": {},
     "output_type": "execute_result"
    }
   ],
   "source": [
    "len(df_zod)"
   ]
  },
  {
   "cell_type": "code",
   "execution_count": 320,
   "metadata": {
    "collapsed": false,
    "scrolled": true
   },
   "outputs": [
    {
     "name": "stdout",
     "output_type": "stream",
     "text": [
      "1RXS 1609 b,\n",
      "2M 0441+23 b,\n",
      "2M 0746+20 b,\n",
      "2M 2206-20 b,\n",
      "11 Ophiuchus b,\n",
      "30 Ari B b,\n",
      "55 Cancer b,\n",
      "55 Cancer c,\n",
      "55 Cancer d,\n",
      "55 Cancer e,\n",
      "55 Cancer f,\n",
      "61 Vir b,\n",
      "61 Vir c,\n",
      "61 Vir d,\n",
      "70 Vir b,\n",
      "91 Aqr b,\n",
      "Aldebaran b,\n",
      "alf Ari b,\n",
      "BD+15 2375 b,\n",
      "BD+20 274 c,\n",
      "BD+20 594 b,\n",
      "BD+20 2457 b,\n",
      "BD+20 2457 c,\n",
      "BD+26 1888 b,\n",
      "beta Cancer b,\n",
      "DH Tau b,\n",
      "DP Leo b,\n",
      "EPIC-206011691 b,\n",
      "EPIC-206011691 c,\n",
      "EPIC-210490365 b,\n",
      "EPIC 318 b,\n",
      "EPIC 888 b,\n",
      "EPIC 201295312 b,\n",
      "EPIC 201445392 c,\n",
      "EPIC 201637175 b,\n",
      "EPIC 203771098 b,\n",
      "EPIC 203771098 c,\n",
      "EPIC 205117205 b,\n",
      "EPIC 211089792 b,\n",
      "eps Tau b,\n",
      "FU Tau b,\n",
      "FW Tau b,\n",
      "GJ 176 b,\n",
      "GJ 436 b,\n",
      "GJ 504 b,\n",
      "GJ 581 b,\n",
      "GJ 581 c,\n",
      "GJ 581 e,\n",
      "GJ 667 C b,\n",
      "GJ 667 C c,\n",
      "GJ 667 C d,\n",
      "GJ 667 C e,\n",
      "GJ 667 C f,\n",
      "GJ 667 C g,\n",
      "GJ 682 b,\n",
      "GJ 682 c,\n",
      "GJ 785 b,\n",
      "GJ 785 c,\n",
      "GJ 849 b,\n",
      "GJ 849 c,\n",
      "GJ 876 b,\n",
      "GJ 876 c,\n",
      "GJ 876 d,\n",
      "GJ 876 e,\n",
      "GJ 3470 b,\n",
      "GSC 6214-210 b,\n",
      "GU Psc b,\n",
      "HAT-P-20 b,\n",
      "HAT-P-24 b,\n",
      "HAT-P-25 b,\n",
      "HAT-P-26 b,\n",
      "HAT-P-27-WASP-40 b,\n",
      "HAT-P-33 b,\n",
      "HAT-P-39 b,\n",
      "HAT-P-43 b,\n",
      "HAT-P-50 b,\n",
      "HAT-P-51 b,\n",
      "HAT-P-52 b,\n",
      "HAT-P-54 b,\n",
      "HAT-P-56 b,\n",
      "HATS-3 b,\n",
      "HATS-7 b,\n",
      "HATS-8 b,\n",
      "HATS-9 b,\n",
      "HATS-10 b,\n",
      "HATS-11 b,\n",
      "HATS-12 b,\n",
      "HATS-13 b,\n",
      "HATS-14 b,\n",
      "HATS-15 b,\n",
      "HD 1502 b,\n",
      "HD 3651 b,\n",
      "HD 3651 c,\n",
      "HD 4203 b,\n",
      "HD 4203 c,\n",
      "HD 4313 b,\n",
      "HD 5891 b,\n",
      "HD 8574 b,\n",
      "HD 10697 b,\n",
      "HD 12484 b,\n",
      "HD 12661 b,\n",
      "HD 12661 c,\n",
      "HD 14067 b,\n",
      "HD 20367 b,\n",
      "HD 24040 b,\n",
      "HD 28678 b,\n",
      "HD 32963 b,\n",
      "HD 37124 b,\n",
      "HD 37124 c,\n",
      "HD 37124 d,\n",
      "HD 50554 b,\n",
      "HD 59686 b,\n",
      "HD 62509 b,\n",
      "HD 67087 b,\n",
      "HD 67087 c,\n",
      "HD 73534 b,\n",
      "HD 77065 b,\n",
      "HD 79498 b,\n",
      "HD 81040 b,\n",
      "HD 88133 b,\n",
      "HD 89307 b,\n",
      "HD 95089 b,\n",
      "HD 96063 b,\n",
      "HD 97658 b,\n",
      "HD 99109 b,\n",
      "HD 99492 b,\n",
      "HD 100655 b,\n",
      "HD 100777 b,\n",
      "HD 102195 b,\n",
      "HD 102272 b,\n",
      "HD 102272 c,\n",
      "HD 102329 b,\n",
      "HD 103720 b,\n",
      "HD 106252 b,\n",
      "HD 106270 b,\n",
      "HD 106515 A b,\n",
      "HD 107148 b,\n",
      "HD 109271 b,\n",
      "HD 109271 c,\n",
      "HD 110014 b,\n",
      "HD 114783 b,\n",
      "HD 125612 b,\n",
      "HD 125612 c,\n",
      "HD 125612 d,\n",
      "HD 126614 b,\n",
      "HD 130322 b,\n",
      "HD 134987 b,\n",
      "HD 134987 c,\n",
      "HD 141937 b,\n",
      "HD 145377 b,\n",
      "HD 147513 b,\n",
      "HD 147873 b,\n",
      "HD 147873 c,\n",
      "HD 153950 b,\n",
      "HD 159868 b,\n",
      "HD 159868 c,\n",
      "HD 162020 b,\n",
      "HD 164604 b,\n",
      "HD 165155 b,\n",
      "HD169142 b,\n",
      "HD 169830 b,\n",
      "HD 169830 c,\n",
      "HD 171238 b,\n",
      "HD 179949 b,\n",
      "HD 180902 b,\n",
      "HD 181342 b,\n",
      "HD 181720 b,\n",
      "HD 187085 b,\n",
      "HD 190647 b,\n",
      "HD 202206 b,\n",
      "HD 202206 c,\n",
      "HD 204313 b,\n",
      "HD 204313 c,\n",
      "HD 204313 d,\n",
      "HD 204941 b,\n",
      "HD 206610 b,\n",
      "HD 210277 b,\n",
      "HD 212771 b,\n",
      "HD 215152 b,\n",
      "HD 215152 c,\n",
      "HD 217107 b,\n",
      "HD 217107 c,\n",
      "HD 217786 b,\n",
      "HD 218566 b,\n",
      "HD 220689 b,\n",
      "HD 222582 b,\n",
      "HD 283668 b,\n",
      "HD 284149 b,\n",
      "HD 285507 b,\n",
      "HIP 14810 b,\n",
      "HIP 14810 c,\n",
      "HIP 14810 d,\n",
      "HIP 73990 b,\n",
      "HIP 73990 c,\n",
      "HIP 77900 b,\n",
      "HIP 78530 b,\n",
      "HIP 79431 b,\n",
      "HIP 116454 b,\n",
      "HU Aqr(AB) c,\n",
      "HW Vir(AB) b,\n",
      "K2-3 b,\n",
      "K2-3 c,\n",
      "K2-3 d,\n",
      "K2-8 b,\n",
      "K2-9 b,\n",
      "K2-10 b,\n",
      "K2-16 b,\n",
      "K2-16 c,\n",
      "K2-18 b,\n",
      "K2-19 b,\n",
      "K2-19 c,\n",
      "K2-19 d,\n",
      "K2-26 b,\n",
      "K2-27 b,\n",
      "KELT-4A b,\n",
      "KMT-2015-1 b,\n",
      "LKCA 15 b,\n",
      "MOA-2007-BLG-192-L b,\n",
      "MOA-2007-BLG-197L b,\n",
      "MOA-2007-BLG-400-L b,\n",
      "MOA-2008-BLG-310-L b,\n",
      "MOA-2008-BLG-379L b,\n",
      "MOA-2009-BLG-266L b,\n",
      "MOA-2009-BLG-319 b,\n",
      "MOA-2009-BLG-387L b,\n",
      "MOA-2010-BLG-328L b,\n",
      "MOA-2010-BLG-353L b,\n",
      "MOA-2010-BLG-477L b,\n",
      "MOA-2011-BLG-028L b,\n",
      "MOA-2011-BLG-262L b,\n",
      "MOA-2011-BLG-274 b,\n",
      "MOA-2011-BLG-293L b,\n",
      "MOA-2011-BLG-322L b,\n",
      "MOA-2013-BLG-220L b,\n",
      "MOA-2013-BLG-605L b,\n",
      "MOA-bin-1 b,\n",
      "mu Leo b,\n",
      "NY Vir b,\n",
      "NY Vir c,\n",
      "OGLE-2003-BLG-235L b,\n",
      "OGLE-2005-071L b,\n",
      "OGLE-2005-169L b,\n",
      "OGLE-2005-390L b,\n",
      "OGLE-2006-109L b,\n",
      "OGLE-2006-109L c,\n",
      "OGLE-2007-BLG-368L b,\n",
      "OGLE-2008-BLG-092L b,\n",
      "OGLE-2008-BLG-355L b,\n",
      "OGLE-2009-BLG-151L b,\n",
      "OGLE-2011-BLG-0265L b,\n",
      "OGLE-2011-BLG-0420L b,\n",
      "OGLE-2012-BLG-0406L b,\n",
      "OGLE-2012-BLG-0563L b,\n",
      "OGLE-2012-BLG-0724L b,\n",
      "OGLE-2013-BLG-0102L b,\n",
      "OGLE-2013-BLG-0341L b,\n",
      "OGLE-2014-BLG-0124L b,\n",
      "OGLE-2014-BLG-0257L b,\n",
      "OGLE-2014:BLG-1760L b,\n",
      "OGLE-2015-BLG-0954L b,\n",
      "OGLE-2015-BLG-0966L b,\n",
      "OGLE-TR-10 b,\n",
      "OGLE-TR-56 b,\n",
      "Pr 0201 b,\n",
      "Pr 0211 b,\n",
      "Pr 0211 c,\n",
      "PSR 1257 12 b,\n",
      "PSR 1257 12 c,\n",
      "PSR 1257 12 d,\n",
      "PSR B1620-26 b,\n",
      "PSR J2051-0827 b,\n",
      "Qatar-2 b,\n",
      "Ross 458(AB) c,\n",
      "SAND364 b,\n",
      "SWEEPS-04b,\n",
      "SWEEPS-11b,\n",
      "tau Gem b,\n",
      "TRAPPIST-1 b,\n",
      "TRAPPIST-1 c,\n",
      "TRAPPIST-1 d,\n",
      "TYC+1422-614-1 b,\n",
      "TYC+1422-614-1 c,\n",
      "USco1602-2401 b,\n",
      "USco1610-1913 b,\n",
      "USco1612-1800 b,\n",
      "UScoCTIO 108 b,\n",
      "WASP-6 b,\n",
      "WASP-11-HAT-P-10 b,\n",
      "WASP-16 b,\n",
      "WASP-17 b,\n",
      "WASP-24 b,\n",
      "WASP-28 b,\n",
      "WASP-32 b,\n",
      "WASP-37 b,\n",
      "WASP-39 b,\n",
      "WASP-47 b,\n",
      "WASP-47 c,\n",
      "WASP-47 d,\n",
      "WASP-47 e,\n",
      "WASP-54 b,\n",
      "WASP-55 b,\n",
      "WASP-57 b,\n",
      "WASP-65 b,\n",
      "WASP-67 b,\n",
      "WASP-68 b,\n",
      "WASP-69 b,\n",
      "WASP-70A b,\n",
      "WASP-75 b,\n",
      "WASP-76 b,\n",
      "WASP-85 b,\n",
      "WASP-89 b,\n",
      "WASP-104 b,\n",
      "WASP-106 b,\n",
      "WASP-109 b,\n",
      "WASP-110 b,\n",
      "WASP-111 b,\n",
      "WASP-123 b,\n",
      "WASP-157 b,\n",
      "YBP1194 b,\n",
      "YBP1514 b\n"
     ]
    }
   ],
   "source": [
    "for i, row in enumerate(df_zod.iterrows()):\n",
    "    if i+1==len(df_zod):\n",
    "        print(row[1]['P. Name'])\n",
    "    else:\n",
    "        print(row[1]['P. Name']+',')"
   ]
  },
  {
   "cell_type": "code",
   "execution_count": 325,
   "metadata": {
    "collapsed": true
   },
   "outputs": [],
   "source": [
    "def json_maker(name, df):\n",
    "    json_file=open(name+'.json', 'w')\n",
    "    json_file.write('{\\n\"name\": ')\n",
    "    json_file.write('\"{}\", \\n\"children\":[\\n'.format(name))\n",
    "    for a, const in enumerate(df['S. Constellation'].unique()):\n",
    "        json_file.write('\\t{\\n')\n",
    "        json_file.write('\\t\"name\": \"{}\", \\n\\t\"children\": [\\n'.format(const))\n",
    "        const_df=df[df['S. Constellation'].apply(lambda x: x==const)]\n",
    "        for i, row in enumerate(const_df.iterrows()):\n",
    "            json_file.write('\\t\\t{')\n",
    "            json_file.write('\"name\": \"{}\", \"size\": {}'.format(row[1]['P. Name'], row[1]['P. Radius (EU)']))\n",
    "            if i+1==len(const_df):\n",
    "                json_file.write('}\\n')\n",
    "            else:\n",
    "                json_file.write('},\\n')\n",
    "        if a+1==len(df['S. Constellation'].unique()):\n",
    "            json_file.write('\\t\\t]}\\n')\n",
    "        else:\n",
    "            json_file.write('\\t\\t]},\\n')\n",
    "    json_file.write('\\t]\\n}')\n",
    "    json_file.close()\n",
    "    return 'done'"
   ]
  },
  {
   "cell_type": "code",
   "execution_count": 386,
   "metadata": {
    "collapsed": true
   },
   "outputs": [],
   "source": [
    "def json_maker(name, df):\n",
    "    json_file=open(name+'.json', 'w')\n",
    "    json_file.write('{\\n\"name\": ')\n",
    "    json_file.write('\"{}\", \\n\"children\":[\\n'.format(name))\n",
    "    for a, const in enumerate(df['S. Constellation'].unique()):\n",
    "        json_file.write('\\t{\\n')\n",
    "        json_file.write('\\t\"name\": \"{}\", \\n\\t\"children\": [\\n'.format(const))\n",
    "        const_df=df[df['S. Constellation'].apply(lambda x: x==const)]\n",
    "        for e, star_name in enumerate(const_df['S. Name'].unique()):\n",
    "            json_file.write('\\t\\t{\\n')\n",
    "            json_file.write('\\t\\t\"name\": \"{}\", \\n\\t\\t\"children\": [\\n'.format(star_name))\n",
    "            stars_df=const_df[const_df['S. Name'].apply(lambda x: x==star_name)]\n",
    "            for i, row in enumerate(stars_df.iterrows()):\n",
    "                json_file.write('\\t\\t\\t{')\n",
    "                json_file.write('\"name\": \"{}\", \"size\": {}, \"temp\": {}'.format(row[1]['P. Name'], \n",
    "                                                                          row[1]['P. Radius (EU)'],\n",
    "                                                                          row[1]['P. Teq Mean (K)']))\n",
    "                if i+1==len(stars_df):\n",
    "                    json_file.write('}\\n')\n",
    "                else:\n",
    "                    json_file.write('},\\n')\n",
    "            if e+1==len(const_df['S. Name'].unique()):\n",
    "                json_file.write('\\t\\t]}\\n')\n",
    "            else:\n",
    "                json_file.write('\\t\\t]},\\n')\n",
    "        if a+1==len(df['S. Constellation'].unique()):\n",
    "            json_file.write('\\t\\t]}\\n')\n",
    "        else:\n",
    "            json_file.write('\\t\\t]},\\n')\n",
    "    json_file.write('\\t]\\n}')\n",
    "    json_file.close()\n",
    "    return 'done'"
   ]
  },
  {
   "cell_type": "code",
   "execution_count": 387,
   "metadata": {
    "collapsed": false
   },
   "outputs": [
    {
     "data": {
      "text/plain": [
       "'done'"
      ]
     },
     "execution_count": 387,
     "metadata": {},
     "output_type": "execute_result"
    }
   ],
   "source": [
    "json_maker('Zodiac', df_zod)"
   ]
  },
  {
   "cell_type": "code",
   "execution_count": 388,
   "metadata": {
    "collapsed": false
   },
   "outputs": [
    {
     "data": {
      "text/plain": [
       "'done'"
      ]
     },
     "execution_count": 388,
     "metadata": {},
     "output_type": "execute_result"
    }
   ],
   "source": [
    "json_maker('Northern Hemisphere', df_nh)"
   ]
  },
  {
   "cell_type": "code",
   "execution_count": 389,
   "metadata": {
    "collapsed": false
   },
   "outputs": [
    {
     "data": {
      "text/plain": [
       "'done'"
      ]
     },
     "execution_count": 389,
     "metadata": {},
     "output_type": "execute_result"
    }
   ],
   "source": [
    "json_maker('Southern Hemisphere', df_sh)"
   ]
  },
  {
   "cell_type": "code",
   "execution_count": 390,
   "metadata": {
    "collapsed": false
   },
   "outputs": [],
   "source": [
    "planets_json=open('planets.json', 'w')\n",
    "planets_json.write('{\\n\"name\": \"exoplanets\",\\n\"children\":[\\n\\n')\n",
    "planets_json.write(open('Zodiac.json', 'r').read())\n",
    "planets_json.write(',\\n')\n",
    "planets_json.write(open('Northern Hemisphere.json', 'r').read())\n",
    "planets_json.write(',\\n')\n",
    "planets_json.write(open('Southern Hemisphere.json', 'r').read())\n",
    "planets_json.write('\\n\\n]}')\n",
    "planets_json.close()"
   ]
  },
  {
   "cell_type": "code",
   "execution_count": 48,
   "metadata": {
    "collapsed": false
   },
   "outputs": [
    {
     "name": "stderr",
     "output_type": "stream",
     "text": [
      "/usr/local/lib/python3.5/dist-packages/numpy/lib/function_base.py:3834: RuntimeWarning: Invalid value encountered in percentile\n",
      "  RuntimeWarning)\n"
     ]
    },
    {
     "data": {
      "text/plain": [
       "count      3326.000000\n",
       "mean        756.819224\n",
       "std       14565.611221\n",
       "min           0.070000\n",
       "25%                NaN\n",
       "50%                NaN\n",
       "75%                NaN\n",
       "max      730000.000000\n",
       "Name: P. Period (days), dtype: float64"
      ]
     },
     "execution_count": 48,
     "metadata": {},
     "output_type": "execute_result"
    }
   ],
   "source": [
    "df['P. Period (days)'].describe()"
   ]
  },
  {
   "cell_type": "code",
   "execution_count": 9,
   "metadata": {
    "collapsed": true
   },
   "outputs": [],
   "source": [
    "df_jov=df[df['P. Mass Class']=='Jovian']"
   ]
  },
  {
   "cell_type": "code",
   "execution_count": 21,
   "metadata": {
    "collapsed": false
   },
   "outputs": [
    {
     "data": {
      "text/plain": [
       "773"
      ]
     },
     "execution_count": 21,
     "metadata": {},
     "output_type": "execute_result"
    }
   ],
   "source": [
    "len(df_jov[df_jov['P. Mass (EU)']>200])"
   ]
  },
  {
   "cell_type": "code",
   "execution_count": 24,
   "metadata": {
    "collapsed": false
   },
   "outputs": [
    {
     "data": {
      "text/plain": [
       "495.99"
      ]
     },
     "execution_count": 24,
     "metadata": {},
     "output_type": "execute_result"
    }
   ],
   "source": [
    "df_jov['P. Mass (EU)'].median()"
   ]
  },
  {
   "cell_type": "code",
   "execution_count": 25,
   "metadata": {
    "collapsed": true
   },
   "outputs": [],
   "source": [
    "df_sjov=df_jov[df_jov['P. Mass (EU)']>500]"
   ]
  },
  {
   "cell_type": "code",
   "execution_count": 28,
   "metadata": {
    "collapsed": true
   },
   "outputs": [],
   "source": [
    "df_jov=df_jov[df_jov['P. Mass (EU)']<500]"
   ]
  },
  {
   "cell_type": "code",
   "execution_count": 30,
   "metadata": {
    "collapsed": false
   },
   "outputs": [
    {
     "data": {
      "text/plain": [
       "505"
      ]
     },
     "execution_count": 30,
     "metadata": {},
     "output_type": "execute_result"
    }
   ],
   "source": [
    "len(df_sjov)"
   ]
  },
  {
   "cell_type": "code",
   "execution_count": 10,
   "metadata": {
    "collapsed": true
   },
   "outputs": [],
   "source": [
    "df_sterr=df[df['P. Mass Class']=='Superterran']"
   ]
  },
  {
   "cell_type": "code",
   "execution_count": 98,
   "metadata": {
    "collapsed": true
   },
   "outputs": [],
   "source": [
    "df_subt=df[df['P. Mass Class']=='Subterran']"
   ]
  },
  {
   "cell_type": "code",
   "execution_count": 11,
   "metadata": {
    "collapsed": true
   },
   "outputs": [],
   "source": [
    "df_nep=df[df['P. Mass Class']=='Neptunian']"
   ]
  },
  {
   "cell_type": "code",
   "execution_count": 12,
   "metadata": {
    "collapsed": true
   },
   "outputs": [],
   "source": [
    "df_terr=df[df['P. Mass Class']=='Terran']"
   ]
  },
  {
   "cell_type": "code",
   "execution_count": 64,
   "metadata": {
    "collapsed": false
   },
   "outputs": [
    {
     "data": {
      "text/plain": [
       "646"
      ]
     },
     "execution_count": 64,
     "metadata": {},
     "output_type": "execute_result"
    }
   ],
   "source": [
    "len(df_terr)"
   ]
  },
  {
   "cell_type": "code",
   "execution_count": 13,
   "metadata": {
    "collapsed": true
   },
   "outputs": [],
   "source": [
    "df_merc=df[df['P. Mass Class']=='Mercurian']"
   ]
  },
  {
   "cell_type": "code",
   "execution_count": 65,
   "metadata": {
    "collapsed": false
   },
   "outputs": [
    {
     "data": {
      "text/plain": [
       "5"
      ]
     },
     "execution_count": 65,
     "metadata": {},
     "output_type": "execute_result"
    }
   ],
   "source": [
    "len(df_merc)"
   ]
  },
  {
   "cell_type": "code",
   "execution_count": 91,
   "metadata": {
    "collapsed": false
   },
   "outputs": [],
   "source": [
    "df_terr_h=(df_terr[df_terr['P. Habitable']==1])"
   ]
  },
  {
   "cell_type": "code",
   "execution_count": 94,
   "metadata": {
    "collapsed": true
   },
   "outputs": [],
   "source": [
    "df_terr=(df_terr[df_terr['P. Habitable']==0])"
   ]
  },
  {
   "cell_type": "code",
   "execution_count": 95,
   "metadata": {
    "collapsed": false
   },
   "outputs": [
    {
     "data": {
      "text/plain": [
       "40"
      ]
     },
     "execution_count": 95,
     "metadata": {},
     "output_type": "execute_result"
    }
   ],
   "source": [
    "len(df[df['P. Hab Moon']==1])"
   ]
  },
  {
   "cell_type": "code",
   "execution_count": 78,
   "metadata": {
    "collapsed": false
   },
   "outputs": [],
   "source": [
    "def p_class_div(df, name):\n",
    "    json_file=open(name+'.json', 'w')\n",
    "    json_file.write('{\"name\": ')\n",
    "    json_file.write('\"{}\",\"children\":'.format(name))\n",
    "    json_file.write(df[['P. Name','P. Habitable Class','P. Mass (EU)','P. Gravity (EU)','P. Ts Mean (K)',\n",
    "                        'P. Radius (EU)','P. Period (days)']]\n",
    "                    .reset_index().to_json(orient='records'))\n",
    "    json_file.write('}')\n",
    "    json_file.close()\n",
    "    return 'done'"
   ]
  },
  {
   "cell_type": "code",
   "execution_count": 4,
   "metadata": {
    "collapsed": false
   },
   "outputs": [
    {
     "data": {
      "text/plain": [
       "Jovian         1039\n",
       "Superterran     908\n",
       "Neptunian       744\n",
       "Terran          646\n",
       "Subterran        68\n",
       "Mercurian         5\n",
       "Name: P. Mass Class, dtype: int64"
      ]
     },
     "execution_count": 4,
     "metadata": {},
     "output_type": "execute_result"
    }
   ],
   "source": [
    "df['P. Mass Class'].value_counts()"
   ]
  },
  {
   "cell_type": "code",
   "execution_count": 79,
   "metadata": {
    "collapsed": false
   },
   "outputs": [
    {
     "data": {
      "text/plain": [
       "'done'"
      ]
     },
     "execution_count": 79,
     "metadata": {},
     "output_type": "execute_result"
    }
   ],
   "source": [
    "p_class_div(df_merc, 'mercurian')"
   ]
  },
  {
   "cell_type": "code",
   "execution_count": 80,
   "metadata": {
    "collapsed": false
   },
   "outputs": [
    {
     "data": {
      "text/plain": [
       "'done'"
      ]
     },
     "execution_count": 80,
     "metadata": {},
     "output_type": "execute_result"
    }
   ],
   "source": [
    "p_class_div(df_terr, 'terran')"
   ]
  },
  {
   "cell_type": "code",
   "execution_count": 81,
   "metadata": {
    "collapsed": false
   },
   "outputs": [
    {
     "data": {
      "text/plain": [
       "'done'"
      ]
     },
     "execution_count": 81,
     "metadata": {},
     "output_type": "execute_result"
    }
   ],
   "source": [
    "p_class_div(df_jov, 'jovian')"
   ]
  },
  {
   "cell_type": "code",
   "execution_count": 82,
   "metadata": {
    "collapsed": false
   },
   "outputs": [
    {
     "data": {
      "text/plain": [
       "'done'"
      ]
     },
     "execution_count": 82,
     "metadata": {},
     "output_type": "execute_result"
    }
   ],
   "source": [
    "p_class_div(df_sjov, 'super-jovian')"
   ]
  },
  {
   "cell_type": "code",
   "execution_count": 83,
   "metadata": {
    "collapsed": false
   },
   "outputs": [
    {
     "data": {
      "text/plain": [
       "'done'"
      ]
     },
     "execution_count": 83,
     "metadata": {},
     "output_type": "execute_result"
    }
   ],
   "source": [
    "p_class_div(df_sterr, 'super-terran')"
   ]
  },
  {
   "cell_type": "code",
   "execution_count": 84,
   "metadata": {
    "collapsed": false
   },
   "outputs": [
    {
     "data": {
      "text/plain": [
       "'done'"
      ]
     },
     "execution_count": 84,
     "metadata": {},
     "output_type": "execute_result"
    }
   ],
   "source": [
    "p_class_div(df_nep, 'neptunian')"
   ]
  },
  {
   "cell_type": "code",
   "execution_count": 31,
   "metadata": {
    "collapsed": false
   },
   "outputs": [
    {
     "data": {
      "text/plain": [
       "0    3373\n",
       "1      42\n",
       "Name: P. Habitable, dtype: int64"
      ]
     },
     "execution_count": 31,
     "metadata": {},
     "output_type": "execute_result"
    }
   ],
   "source": [
    "df['P. Habitable'].value_counts()"
   ]
  },
  {
   "cell_type": "code",
   "execution_count": 6,
   "metadata": {
    "collapsed": false
   },
   "outputs": [
    {
     "data": {
      "text/plain": [
       "0    3375\n",
       "1      40\n",
       "Name: P. Hab Moon, dtype: int64"
      ]
     },
     "execution_count": 6,
     "metadata": {},
     "output_type": "execute_result"
    }
   ],
   "source": [
    "df['P. Hab Moon'].value_counts()"
   ]
  },
  {
   "cell_type": "code",
   "execution_count": 16,
   "metadata": {
    "collapsed": false
   },
   "outputs": [],
   "source": [
    "df_meso=df[(df['P. Mass Class']=='Superterran')&(df['P. Habitable Class']=='mesoplanet')]"
   ]
  },
  {
   "cell_type": "code",
   "execution_count": 19,
   "metadata": {
    "collapsed": false
   },
   "outputs": [
    {
     "data": {
      "text/plain": [
       "141          GJ 180 b\n",
       "142          GJ 180 c\n",
       "148          GJ 422 b\n",
       "176          GJ 832 c\n",
       "803           K2-18 b\n",
       "855       Kepler-22 b\n",
       "946       Kepler-61 b\n",
       "950       Kepler-62 e\n",
       "1494     Kepler-283 c\n",
       "1536     Kepler-298 d\n",
       "1816     Kepler-440 b\n",
       "1819     Kepler-443 b\n",
       "1838     Kepler-452 b\n",
       "2106     Kepler-705 b\n",
       "2520    Kepler-1090 b\n",
       "2858    Kepler-1410 b\n",
       "2991    Kepler-1540 b\n",
       "2998    Kepler-1544 b\n",
       "3006    Kepler-1552 b\n",
       "3092    Kepler-1638 b\n",
       "Name: P. Name, dtype: object"
      ]
     },
     "execution_count": 19,
     "metadata": {},
     "output_type": "execute_result"
    }
   ],
   "source": [
    "df_meso['P. Name']"
   ]
  },
  {
   "cell_type": "code",
   "execution_count": 26,
   "metadata": {
    "collapsed": false,
    "scrolled": true
   },
   "outputs": [
    {
     "data": {
      "text/html": [
       "<div>\n",
       "<table border=\"1\" class=\"dataframe\">\n",
       "  <thead>\n",
       "    <tr style=\"text-align: right;\">\n",
       "      <th></th>\n",
       "      <th>P. Name</th>\n",
       "      <th>P. Mass (EU)</th>\n",
       "      <th>P. Gravity (EU)</th>\n",
       "    </tr>\n",
       "  </thead>\n",
       "  <tbody>\n",
       "    <tr>\n",
       "      <th>137</th>\n",
       "      <td>GJ 163 c</td>\n",
       "      <td>7.26</td>\n",
       "      <td>2.17</td>\n",
       "    </tr>\n",
       "    <tr>\n",
       "      <th>141</th>\n",
       "      <td>GJ 180 b</td>\n",
       "      <td>8.30</td>\n",
       "      <td>2.32</td>\n",
       "    </tr>\n",
       "    <tr>\n",
       "      <th>142</th>\n",
       "      <td>GJ 180 c</td>\n",
       "      <td>6.40</td>\n",
       "      <td>2.04</td>\n",
       "    </tr>\n",
       "    <tr>\n",
       "      <th>148</th>\n",
       "      <td>GJ 422 b</td>\n",
       "      <td>9.90</td>\n",
       "      <td>2.53</td>\n",
       "    </tr>\n",
       "    <tr>\n",
       "      <th>159</th>\n",
       "      <td>GJ 667 C c</td>\n",
       "      <td>3.80</td>\n",
       "      <td>1.61</td>\n",
       "    </tr>\n",
       "    <tr>\n",
       "      <th>161</th>\n",
       "      <td>GJ 667 C e</td>\n",
       "      <td>2.70</td>\n",
       "      <td>1.39</td>\n",
       "    </tr>\n",
       "    <tr>\n",
       "      <th>162</th>\n",
       "      <td>GJ 667 C f</td>\n",
       "      <td>2.70</td>\n",
       "      <td>1.39</td>\n",
       "    </tr>\n",
       "    <tr>\n",
       "      <th>170</th>\n",
       "      <td>GJ 682 c</td>\n",
       "      <td>8.70</td>\n",
       "      <td>2.37</td>\n",
       "    </tr>\n",
       "    <tr>\n",
       "      <th>176</th>\n",
       "      <td>GJ 832 c</td>\n",
       "      <td>5.40</td>\n",
       "      <td>1.89</td>\n",
       "    </tr>\n",
       "    <tr>\n",
       "      <th>187</th>\n",
       "      <td>GJ 3293 c</td>\n",
       "      <td>8.57</td>\n",
       "      <td>2.35</td>\n",
       "    </tr>\n",
       "    <tr>\n",
       "      <th>407</th>\n",
       "      <td>HD 40307 g</td>\n",
       "      <td>7.09</td>\n",
       "      <td>2.15</td>\n",
       "    </tr>\n",
       "    <tr>\n",
       "      <th>797</th>\n",
       "      <td>K2-3 d</td>\n",
       "      <td>11.10</td>\n",
       "      <td>4.74</td>\n",
       "    </tr>\n",
       "    <tr>\n",
       "      <th>799</th>\n",
       "      <td>K2-9 b</td>\n",
       "      <td>16.77</td>\n",
       "      <td>3.31</td>\n",
       "    </tr>\n",
       "    <tr>\n",
       "      <th>803</th>\n",
       "      <td>K2-18 b</td>\n",
       "      <td>16.46</td>\n",
       "      <td>3.28</td>\n",
       "    </tr>\n",
       "    <tr>\n",
       "      <th>811</th>\n",
       "      <td>Kapteyn b</td>\n",
       "      <td>4.80</td>\n",
       "      <td>1.79</td>\n",
       "    </tr>\n",
       "    <tr>\n",
       "      <th>855</th>\n",
       "      <td>Kepler-22 b</td>\n",
       "      <td>20.36</td>\n",
       "      <td>3.68</td>\n",
       "    </tr>\n",
       "    <tr>\n",
       "      <th>946</th>\n",
       "      <td>Kepler-61 b</td>\n",
       "      <td>13.85</td>\n",
       "      <td>2.99</td>\n",
       "    </tr>\n",
       "    <tr>\n",
       "      <th>950</th>\n",
       "      <td>Kepler-62 e</td>\n",
       "      <td>4.54</td>\n",
       "      <td>1.74</td>\n",
       "    </tr>\n",
       "    <tr>\n",
       "      <th>951</th>\n",
       "      <td>Kepler-62 f</td>\n",
       "      <td>2.81</td>\n",
       "      <td>1.41</td>\n",
       "    </tr>\n",
       "    <tr>\n",
       "      <th>1212</th>\n",
       "      <td>Kepler-174 d</td>\n",
       "      <td>14.78</td>\n",
       "      <td>3.10</td>\n",
       "    </tr>\n",
       "    <tr>\n",
       "      <th>1243</th>\n",
       "      <td>Kepler-186 f</td>\n",
       "      <td>1.47</td>\n",
       "      <td>1.07</td>\n",
       "    </tr>\n",
       "    <tr>\n",
       "      <th>1494</th>\n",
       "      <td>Kepler-283 c</td>\n",
       "      <td>7.04</td>\n",
       "      <td>2.14</td>\n",
       "    </tr>\n",
       "    <tr>\n",
       "      <th>1530</th>\n",
       "      <td>Kepler-296 e</td>\n",
       "      <td>3.32</td>\n",
       "      <td>1.52</td>\n",
       "    </tr>\n",
       "    <tr>\n",
       "      <th>1531</th>\n",
       "      <td>Kepler-296 f</td>\n",
       "      <td>6.14</td>\n",
       "      <td>2.01</td>\n",
       "    </tr>\n",
       "    <tr>\n",
       "      <th>1536</th>\n",
       "      <td>Kepler-298 d</td>\n",
       "      <td>26.81</td>\n",
       "      <td>4.30</td>\n",
       "    </tr>\n",
       "    <tr>\n",
       "      <th>1814</th>\n",
       "      <td>Kepler-438 b</td>\n",
       "      <td>1.27</td>\n",
       "      <td>1.01</td>\n",
       "    </tr>\n",
       "    <tr>\n",
       "      <th>1816</th>\n",
       "      <td>Kepler-440 b</td>\n",
       "      <td>7.75</td>\n",
       "      <td>2.24</td>\n",
       "    </tr>\n",
       "    <tr>\n",
       "      <th>1818</th>\n",
       "      <td>Kepler-442 b</td>\n",
       "      <td>2.34</td>\n",
       "      <td>1.30</td>\n",
       "    </tr>\n",
       "    <tr>\n",
       "      <th>1819</th>\n",
       "      <td>Kepler-443 b</td>\n",
       "      <td>19.53</td>\n",
       "      <td>3.60</td>\n",
       "    </tr>\n",
       "    <tr>\n",
       "      <th>1838</th>\n",
       "      <td>Kepler-452 b</td>\n",
       "      <td>4.72</td>\n",
       "      <td>1.77</td>\n",
       "    </tr>\n",
       "    <tr>\n",
       "      <th>2106</th>\n",
       "      <td>Kepler-705 b</td>\n",
       "      <td>12.69</td>\n",
       "      <td>2.86</td>\n",
       "    </tr>\n",
       "    <tr>\n",
       "      <th>2520</th>\n",
       "      <td>Kepler-1090 b</td>\n",
       "      <td>16.81</td>\n",
       "      <td>3.32</td>\n",
       "    </tr>\n",
       "    <tr>\n",
       "      <th>2663</th>\n",
       "      <td>Kepler-1229 b</td>\n",
       "      <td>2.73</td>\n",
       "      <td>1.39</td>\n",
       "    </tr>\n",
       "    <tr>\n",
       "      <th>2858</th>\n",
       "      <td>Kepler-1410 b</td>\n",
       "      <td>6.56</td>\n",
       "      <td>2.07</td>\n",
       "    </tr>\n",
       "    <tr>\n",
       "      <th>2991</th>\n",
       "      <td>Kepler-1540 b</td>\n",
       "      <td>26.25</td>\n",
       "      <td>4.25</td>\n",
       "    </tr>\n",
       "    <tr>\n",
       "      <th>2998</th>\n",
       "      <td>Kepler-1544 b</td>\n",
       "      <td>6.56</td>\n",
       "      <td>2.07</td>\n",
       "    </tr>\n",
       "    <tr>\n",
       "      <th>3006</th>\n",
       "      <td>Kepler-1552 b</td>\n",
       "      <td>25.16</td>\n",
       "      <td>4.14</td>\n",
       "    </tr>\n",
       "    <tr>\n",
       "      <th>3060</th>\n",
       "      <td>Kepler-1606 b</td>\n",
       "      <td>11.88</td>\n",
       "      <td>2.77</td>\n",
       "    </tr>\n",
       "    <tr>\n",
       "      <th>3092</th>\n",
       "      <td>Kepler-1638 b</td>\n",
       "      <td>7.92</td>\n",
       "      <td>2.26</td>\n",
       "    </tr>\n",
       "    <tr>\n",
       "      <th>3149</th>\n",
       "      <td>KOI-4427 b</td>\n",
       "      <td>7.43</td>\n",
       "      <td>2.20</td>\n",
       "    </tr>\n",
       "    <tr>\n",
       "      <th>3254</th>\n",
       "      <td>tau Cet e</td>\n",
       "      <td>4.29</td>\n",
       "      <td>1.70</td>\n",
       "    </tr>\n",
       "    <tr>\n",
       "      <th>3402</th>\n",
       "      <td>Wolf 1061 c</td>\n",
       "      <td>4.26</td>\n",
       "      <td>1.69</td>\n",
       "    </tr>\n",
       "  </tbody>\n",
       "</table>\n",
       "</div>"
      ],
      "text/plain": [
       "            P. Name  P. Mass (EU)  P. Gravity (EU)\n",
       "137        GJ 163 c          7.26             2.17\n",
       "141        GJ 180 b          8.30             2.32\n",
       "142        GJ 180 c          6.40             2.04\n",
       "148        GJ 422 b          9.90             2.53\n",
       "159      GJ 667 C c          3.80             1.61\n",
       "161      GJ 667 C e          2.70             1.39\n",
       "162      GJ 667 C f          2.70             1.39\n",
       "170        GJ 682 c          8.70             2.37\n",
       "176        GJ 832 c          5.40             1.89\n",
       "187       GJ 3293 c          8.57             2.35\n",
       "407      HD 40307 g          7.09             2.15\n",
       "797          K2-3 d         11.10             4.74\n",
       "799          K2-9 b         16.77             3.31\n",
       "803         K2-18 b         16.46             3.28\n",
       "811       Kapteyn b          4.80             1.79\n",
       "855     Kepler-22 b         20.36             3.68\n",
       "946     Kepler-61 b         13.85             2.99\n",
       "950     Kepler-62 e          4.54             1.74\n",
       "951     Kepler-62 f          2.81             1.41\n",
       "1212   Kepler-174 d         14.78             3.10\n",
       "1243   Kepler-186 f          1.47             1.07\n",
       "1494   Kepler-283 c          7.04             2.14\n",
       "1530   Kepler-296 e          3.32             1.52\n",
       "1531   Kepler-296 f          6.14             2.01\n",
       "1536   Kepler-298 d         26.81             4.30\n",
       "1814   Kepler-438 b          1.27             1.01\n",
       "1816   Kepler-440 b          7.75             2.24\n",
       "1818   Kepler-442 b          2.34             1.30\n",
       "1819   Kepler-443 b         19.53             3.60\n",
       "1838   Kepler-452 b          4.72             1.77\n",
       "2106   Kepler-705 b         12.69             2.86\n",
       "2520  Kepler-1090 b         16.81             3.32\n",
       "2663  Kepler-1229 b          2.73             1.39\n",
       "2858  Kepler-1410 b          6.56             2.07\n",
       "2991  Kepler-1540 b         26.25             4.25\n",
       "2998  Kepler-1544 b          6.56             2.07\n",
       "3006  Kepler-1552 b         25.16             4.14\n",
       "3060  Kepler-1606 b         11.88             2.77\n",
       "3092  Kepler-1638 b          7.92             2.26\n",
       "3149     KOI-4427 b          7.43             2.20\n",
       "3254      tau Cet e          4.29             1.70\n",
       "3402    Wolf 1061 c          4.26             1.69"
      ]
     },
     "execution_count": 26,
     "metadata": {},
     "output_type": "execute_result"
    }
   ],
   "source": [
    "df[df['P. Habitable']==1][['P. Name', 'P. Mass (EU)', 'P. Gravity (EU)']]"
   ]
  },
  {
   "cell_type": "code",
   "execution_count": 30,
   "metadata": {
    "collapsed": false,
    "scrolled": true
   },
   "outputs": [
    {
     "data": {
      "text/html": [
       "<div>\n",
       "<table border=\"1\" class=\"dataframe\">\n",
       "  <thead>\n",
       "    <tr style=\"text-align: right;\">\n",
       "      <th></th>\n",
       "      <th>P. Name</th>\n",
       "      <th>P. Name Kepler</th>\n",
       "      <th>P. Name KOI</th>\n",
       "      <th>P. Zone Class</th>\n",
       "      <th>P. Mass Class</th>\n",
       "      <th>P. Composition Class</th>\n",
       "      <th>P. Atmosphere Class</th>\n",
       "      <th>P. Habitable Class</th>\n",
       "      <th>P. Min Mass (EU)</th>\n",
       "      <th>P. Mass (EU)</th>\n",
       "      <th>...</th>\n",
       "      <th>P. SPH</th>\n",
       "      <th>P. Int ESI</th>\n",
       "      <th>P. Surf ESI</th>\n",
       "      <th>P. ESI</th>\n",
       "      <th>S. HabCat</th>\n",
       "      <th>P. Habitable</th>\n",
       "      <th>P. Hab Moon</th>\n",
       "      <th>P. Confirmed</th>\n",
       "      <th>P. Disc. Method</th>\n",
       "      <th>P. Disc. Year</th>\n",
       "    </tr>\n",
       "  </thead>\n",
       "  <tbody>\n",
       "    <tr>\n",
       "      <th>3126</th>\n",
       "      <td>KOI-89 b</td>\n",
       "      <td>NaN</td>\n",
       "      <td>NaN</td>\n",
       "      <td>Hot</td>\n",
       "      <td>Neptunian</td>\n",
       "      <td>gas</td>\n",
       "      <td>metals-rich</td>\n",
       "      <td>non-habitable</td>\n",
       "      <td>NaN</td>\n",
       "      <td>25.44</td>\n",
       "      <td>...</td>\n",
       "      <td>NaN</td>\n",
       "      <td>0</td>\n",
       "      <td>0</td>\n",
       "      <td>0.16</td>\n",
       "      <td>0</td>\n",
       "      <td>0</td>\n",
       "      <td>0</td>\n",
       "      <td>1</td>\n",
       "      <td>Primary Transit</td>\n",
       "      <td>2015</td>\n",
       "    </tr>\n",
       "    <tr>\n",
       "      <th>3127</th>\n",
       "      <td>KOI-89 c</td>\n",
       "      <td>NaN</td>\n",
       "      <td>NaN</td>\n",
       "      <td>Hot</td>\n",
       "      <td>Neptunian</td>\n",
       "      <td>gas</td>\n",
       "      <td>metals-rich</td>\n",
       "      <td>non-habitable</td>\n",
       "      <td>NaN</td>\n",
       "      <td>22.20</td>\n",
       "      <td>...</td>\n",
       "      <td>NaN</td>\n",
       "      <td>0</td>\n",
       "      <td>0</td>\n",
       "      <td>0.20</td>\n",
       "      <td>0</td>\n",
       "      <td>0</td>\n",
       "      <td>0</td>\n",
       "      <td>1</td>\n",
       "      <td>Primary Transit</td>\n",
       "      <td>2015</td>\n",
       "    </tr>\n",
       "    <tr>\n",
       "      <th>3128</th>\n",
       "      <td>KOI-188 b</td>\n",
       "      <td>NaN</td>\n",
       "      <td>NaN</td>\n",
       "      <td>Hot</td>\n",
       "      <td>Jovian</td>\n",
       "      <td>gas</td>\n",
       "      <td>metals-rich</td>\n",
       "      <td>non-habitable</td>\n",
       "      <td>NaN</td>\n",
       "      <td>79.49</td>\n",
       "      <td>...</td>\n",
       "      <td>NaN</td>\n",
       "      <td>0</td>\n",
       "      <td>0</td>\n",
       "      <td>0.08</td>\n",
       "      <td>0</td>\n",
       "      <td>0</td>\n",
       "      <td>0</td>\n",
       "      <td>1</td>\n",
       "      <td>Primary Transit</td>\n",
       "      <td>2014</td>\n",
       "    </tr>\n",
       "    <tr>\n",
       "      <th>3129</th>\n",
       "      <td>KOI-192 b</td>\n",
       "      <td>NaN</td>\n",
       "      <td>NaN</td>\n",
       "      <td>Hot</td>\n",
       "      <td>Jovian</td>\n",
       "      <td>gas</td>\n",
       "      <td>metals-rich</td>\n",
       "      <td>non-habitable</td>\n",
       "      <td>NaN</td>\n",
       "      <td>92.20</td>\n",
       "      <td>...</td>\n",
       "      <td>NaN</td>\n",
       "      <td>0</td>\n",
       "      <td>0</td>\n",
       "      <td>0.07</td>\n",
       "      <td>0</td>\n",
       "      <td>0</td>\n",
       "      <td>0</td>\n",
       "      <td>1</td>\n",
       "      <td>Primary Transit</td>\n",
       "      <td>2014</td>\n",
       "    </tr>\n",
       "    <tr>\n",
       "      <th>3130</th>\n",
       "      <td>KOI-195 b</td>\n",
       "      <td>NaN</td>\n",
       "      <td>NaN</td>\n",
       "      <td>Hot</td>\n",
       "      <td>Jovian</td>\n",
       "      <td>gas</td>\n",
       "      <td>metals-rich</td>\n",
       "      <td>non-habitable</td>\n",
       "      <td>NaN</td>\n",
       "      <td>108.10</td>\n",
       "      <td>...</td>\n",
       "      <td>NaN</td>\n",
       "      <td>0</td>\n",
       "      <td>0</td>\n",
       "      <td>0.07</td>\n",
       "      <td>0</td>\n",
       "      <td>0</td>\n",
       "      <td>0</td>\n",
       "      <td>1</td>\n",
       "      <td>Primary Transit</td>\n",
       "      <td>2014</td>\n",
       "    </tr>\n",
       "    <tr>\n",
       "      <th>3131</th>\n",
       "      <td>KOI-206 b</td>\n",
       "      <td>NaN</td>\n",
       "      <td>NaN</td>\n",
       "      <td>Hot</td>\n",
       "      <td>Jovian</td>\n",
       "      <td>gas</td>\n",
       "      <td>hydrogen-rich</td>\n",
       "      <td>non-habitable</td>\n",
       "      <td>NaN</td>\n",
       "      <td>922.03</td>\n",
       "      <td>...</td>\n",
       "      <td>NaN</td>\n",
       "      <td>0</td>\n",
       "      <td>0</td>\n",
       "      <td>0.11</td>\n",
       "      <td>0</td>\n",
       "      <td>0</td>\n",
       "      <td>0</td>\n",
       "      <td>1</td>\n",
       "      <td>Primary Transit</td>\n",
       "      <td>2012</td>\n",
       "    </tr>\n",
       "    <tr>\n",
       "      <th>3132</th>\n",
       "      <td>KOI-368.01 b</td>\n",
       "      <td>NaN</td>\n",
       "      <td>NaN</td>\n",
       "      <td>Hot</td>\n",
       "      <td>Jovian</td>\n",
       "      <td>NaN</td>\n",
       "      <td>NaN</td>\n",
       "      <td>non-habitable</td>\n",
       "      <td>NaN</td>\n",
       "      <td>NaN</td>\n",
       "      <td>...</td>\n",
       "      <td>0.0</td>\n",
       "      <td>0</td>\n",
       "      <td>0</td>\n",
       "      <td>0.06</td>\n",
       "      <td>0</td>\n",
       "      <td>0</td>\n",
       "      <td>0</td>\n",
       "      <td>1</td>\n",
       "      <td>Primary Transit</td>\n",
       "      <td>2014</td>\n",
       "    </tr>\n",
       "    <tr>\n",
       "      <th>3133</th>\n",
       "      <td>KOI-372 b</td>\n",
       "      <td>NaN</td>\n",
       "      <td>NaN</td>\n",
       "      <td>Hot</td>\n",
       "      <td>Jovian</td>\n",
       "      <td>gas</td>\n",
       "      <td>hydrogen-rich</td>\n",
       "      <td>non-habitable</td>\n",
       "      <td>NaN</td>\n",
       "      <td>1033.31</td>\n",
       "      <td>...</td>\n",
       "      <td>NaN</td>\n",
       "      <td>0</td>\n",
       "      <td>0</td>\n",
       "      <td>0.25</td>\n",
       "      <td>0</td>\n",
       "      <td>0</td>\n",
       "      <td>0</td>\n",
       "      <td>1</td>\n",
       "      <td>Primary Transit</td>\n",
       "      <td>2015</td>\n",
       "    </tr>\n",
       "    <tr>\n",
       "      <th>3134</th>\n",
       "      <td>KOI-372 c</td>\n",
       "      <td>NaN</td>\n",
       "      <td>NaN</td>\n",
       "      <td>Warm</td>\n",
       "      <td>Neptunian</td>\n",
       "      <td>gas</td>\n",
       "      <td>hydrogen-rich</td>\n",
       "      <td>non-habitable</td>\n",
       "      <td>42.86</td>\n",
       "      <td>42.86</td>\n",
       "      <td>...</td>\n",
       "      <td>NaN</td>\n",
       "      <td>0</td>\n",
       "      <td>0</td>\n",
       "      <td>0.61</td>\n",
       "      <td>0</td>\n",
       "      <td>0</td>\n",
       "      <td>0</td>\n",
       "      <td>1</td>\n",
       "      <td>TTV</td>\n",
       "      <td>2015</td>\n",
       "    </tr>\n",
       "    <tr>\n",
       "      <th>3135</th>\n",
       "      <td>KOI-620.02 b</td>\n",
       "      <td>NaN</td>\n",
       "      <td>NaN</td>\n",
       "      <td>Hot</td>\n",
       "      <td>Superterran</td>\n",
       "      <td>gas</td>\n",
       "      <td>metals-rich</td>\n",
       "      <td>non-habitable</td>\n",
       "      <td>NaN</td>\n",
       "      <td>7.60</td>\n",
       "      <td>...</td>\n",
       "      <td>NaN</td>\n",
       "      <td>0</td>\n",
       "      <td>0</td>\n",
       "      <td>0.31</td>\n",
       "      <td>0</td>\n",
       "      <td>0</td>\n",
       "      <td>0</td>\n",
       "      <td>1</td>\n",
       "      <td>TTV</td>\n",
       "      <td>2014</td>\n",
       "    </tr>\n",
       "    <tr>\n",
       "      <th>3136</th>\n",
       "      <td>KOI-680 b</td>\n",
       "      <td>NaN</td>\n",
       "      <td>NaN</td>\n",
       "      <td>Hot</td>\n",
       "      <td>Jovian</td>\n",
       "      <td>gas</td>\n",
       "      <td>hydrogen-rich</td>\n",
       "      <td>non-habitable</td>\n",
       "      <td>NaN</td>\n",
       "      <td>197.12</td>\n",
       "      <td>...</td>\n",
       "      <td>NaN</td>\n",
       "      <td>0</td>\n",
       "      <td>0</td>\n",
       "      <td>0.12</td>\n",
       "      <td>0</td>\n",
       "      <td>0</td>\n",
       "      <td>0</td>\n",
       "      <td>1</td>\n",
       "      <td>Primary Transit</td>\n",
       "      <td>2012</td>\n",
       "    </tr>\n",
       "    <tr>\n",
       "      <th>3137</th>\n",
       "      <td>KOI-682 b</td>\n",
       "      <td>NaN</td>\n",
       "      <td>NaN</td>\n",
       "      <td>Warm</td>\n",
       "      <td>Jovian</td>\n",
       "      <td>gas</td>\n",
       "      <td>hydrogen-rich</td>\n",
       "      <td>non-habitable</td>\n",
       "      <td>NaN</td>\n",
       "      <td>256.00</td>\n",
       "      <td>...</td>\n",
       "      <td>NaN</td>\n",
       "      <td>0</td>\n",
       "      <td>0</td>\n",
       "      <td>0.41</td>\n",
       "      <td>0</td>\n",
       "      <td>0</td>\n",
       "      <td>0</td>\n",
       "      <td>1</td>\n",
       "      <td>Primary Transit</td>\n",
       "      <td>2015</td>\n",
       "    </tr>\n",
       "    <tr>\n",
       "      <th>3138</th>\n",
       "      <td>KOI-771 b</td>\n",
       "      <td>NaN</td>\n",
       "      <td>NaN</td>\n",
       "      <td>Warm</td>\n",
       "      <td>Jovian</td>\n",
       "      <td>NaN</td>\n",
       "      <td>NaN</td>\n",
       "      <td>non-habitable</td>\n",
       "      <td>NaN</td>\n",
       "      <td>NaN</td>\n",
       "      <td>...</td>\n",
       "      <td>0.0</td>\n",
       "      <td>0</td>\n",
       "      <td>0</td>\n",
       "      <td>0.30</td>\n",
       "      <td>0</td>\n",
       "      <td>0</td>\n",
       "      <td>0</td>\n",
       "      <td>1</td>\n",
       "      <td>Primary Transit</td>\n",
       "      <td>2015</td>\n",
       "    </tr>\n",
       "    <tr>\n",
       "      <th>3139</th>\n",
       "      <td>KOI-830 b</td>\n",
       "      <td>NaN</td>\n",
       "      <td>NaN</td>\n",
       "      <td>Hot</td>\n",
       "      <td>Jovian</td>\n",
       "      <td>gas</td>\n",
       "      <td>hydrogen-rich</td>\n",
       "      <td>non-habitable</td>\n",
       "      <td>NaN</td>\n",
       "      <td>403.78</td>\n",
       "      <td>...</td>\n",
       "      <td>NaN</td>\n",
       "      <td>0</td>\n",
       "      <td>0</td>\n",
       "      <td>0.08</td>\n",
       "      <td>0</td>\n",
       "      <td>0</td>\n",
       "      <td>0</td>\n",
       "      <td>1</td>\n",
       "      <td>Primary Transit</td>\n",
       "      <td>2014</td>\n",
       "    </tr>\n",
       "    <tr>\n",
       "      <th>3140</th>\n",
       "      <td>KOI-1089.02 b</td>\n",
       "      <td>NaN</td>\n",
       "      <td>NaN</td>\n",
       "      <td>Hot</td>\n",
       "      <td>Jovian</td>\n",
       "      <td>gas</td>\n",
       "      <td>hydrogen-rich</td>\n",
       "      <td>non-habitable</td>\n",
       "      <td>NaN</td>\n",
       "      <td>203.48</td>\n",
       "      <td>...</td>\n",
       "      <td>NaN</td>\n",
       "      <td>0</td>\n",
       "      <td>0</td>\n",
       "      <td>0.12</td>\n",
       "      <td>0</td>\n",
       "      <td>0</td>\n",
       "      <td>0</td>\n",
       "      <td>1</td>\n",
       "      <td>Primary Transit</td>\n",
       "      <td>2014</td>\n",
       "    </tr>\n",
       "    <tr>\n",
       "      <th>3141</th>\n",
       "      <td>KOI-1257 A b</td>\n",
       "      <td>NaN</td>\n",
       "      <td>NaN</td>\n",
       "      <td>Hot</td>\n",
       "      <td>Jovian</td>\n",
       "      <td>gas</td>\n",
       "      <td>hydrogen-rich</td>\n",
       "      <td>non-habitable</td>\n",
       "      <td>NaN</td>\n",
       "      <td>461.01</td>\n",
       "      <td>...</td>\n",
       "      <td>NaN</td>\n",
       "      <td>0</td>\n",
       "      <td>0</td>\n",
       "      <td>0.17</td>\n",
       "      <td>0</td>\n",
       "      <td>0</td>\n",
       "      <td>0</td>\n",
       "      <td>1</td>\n",
       "      <td>Primary Transit</td>\n",
       "      <td>2014</td>\n",
       "    </tr>\n",
       "    <tr>\n",
       "      <th>3142</th>\n",
       "      <td>KOI-1299 c</td>\n",
       "      <td>NaN</td>\n",
       "      <td>NaN</td>\n",
       "      <td>Hot</td>\n",
       "      <td>Jovian</td>\n",
       "      <td>gas</td>\n",
       "      <td>hydrogen-rich</td>\n",
       "      <td>non-habitable</td>\n",
       "      <td>836.18</td>\n",
       "      <td>836.18</td>\n",
       "      <td>...</td>\n",
       "      <td>NaN</td>\n",
       "      <td>0</td>\n",
       "      <td>0</td>\n",
       "      <td>0.20</td>\n",
       "      <td>0</td>\n",
       "      <td>0</td>\n",
       "      <td>0</td>\n",
       "      <td>1</td>\n",
       "      <td>Radial Velocity</td>\n",
       "      <td>2014</td>\n",
       "    </tr>\n",
       "    <tr>\n",
       "      <th>3143</th>\n",
       "      <td>KOI-1781 b</td>\n",
       "      <td>NaN</td>\n",
       "      <td>NaN</td>\n",
       "      <td>Hot</td>\n",
       "      <td>Superterran</td>\n",
       "      <td>rocky-iron</td>\n",
       "      <td>metals-rich</td>\n",
       "      <td>non-habitable</td>\n",
       "      <td>NaN</td>\n",
       "      <td>8.10</td>\n",
       "      <td>...</td>\n",
       "      <td>0.0</td>\n",
       "      <td>0</td>\n",
       "      <td>0</td>\n",
       "      <td>0.27</td>\n",
       "      <td>0</td>\n",
       "      <td>0</td>\n",
       "      <td>0</td>\n",
       "      <td>1</td>\n",
       "      <td>Primary Transit</td>\n",
       "      <td>2013</td>\n",
       "    </tr>\n",
       "    <tr>\n",
       "      <th>3144</th>\n",
       "      <td>KOI-1843 b</td>\n",
       "      <td>NaN</td>\n",
       "      <td>NaN</td>\n",
       "      <td>Hot</td>\n",
       "      <td>Subterran</td>\n",
       "      <td>rocky-iron</td>\n",
       "      <td>no-atmosphere</td>\n",
       "      <td>non-habitable</td>\n",
       "      <td>NaN</td>\n",
       "      <td>0.32</td>\n",
       "      <td>...</td>\n",
       "      <td>0.0</td>\n",
       "      <td>0</td>\n",
       "      <td>0</td>\n",
       "      <td>0.27</td>\n",
       "      <td>0</td>\n",
       "      <td>0</td>\n",
       "      <td>0</td>\n",
       "      <td>1</td>\n",
       "      <td>Primary Transit</td>\n",
       "      <td>2013</td>\n",
       "    </tr>\n",
       "    <tr>\n",
       "      <th>3145</th>\n",
       "      <td>KOI-2138 b</td>\n",
       "      <td>NaN</td>\n",
       "      <td>NaN</td>\n",
       "      <td>Hot</td>\n",
       "      <td>Superterran</td>\n",
       "      <td>rocky-iron</td>\n",
       "      <td>metals-rich</td>\n",
       "      <td>non-habitable</td>\n",
       "      <td>NaN</td>\n",
       "      <td>13.26</td>\n",
       "      <td>...</td>\n",
       "      <td>0.0</td>\n",
       "      <td>0</td>\n",
       "      <td>0</td>\n",
       "      <td>0.25</td>\n",
       "      <td>0</td>\n",
       "      <td>0</td>\n",
       "      <td>0</td>\n",
       "      <td>1</td>\n",
       "      <td>Primary Transit</td>\n",
       "      <td>2015</td>\n",
       "    </tr>\n",
       "    <tr>\n",
       "      <th>3146</th>\n",
       "      <td>KOI-2700 b</td>\n",
       "      <td>NaN</td>\n",
       "      <td>NaN</td>\n",
       "      <td>Hot</td>\n",
       "      <td>Terran</td>\n",
       "      <td>rocky-water</td>\n",
       "      <td>no-atmosphere</td>\n",
       "      <td>non-habitable</td>\n",
       "      <td>NaN</td>\n",
       "      <td>0.86</td>\n",
       "      <td>...</td>\n",
       "      <td>0.0</td>\n",
       "      <td>0</td>\n",
       "      <td>0</td>\n",
       "      <td>0.30</td>\n",
       "      <td>0</td>\n",
       "      <td>0</td>\n",
       "      <td>0</td>\n",
       "      <td>1</td>\n",
       "      <td>Primary Transit</td>\n",
       "      <td>2013</td>\n",
       "    </tr>\n",
       "    <tr>\n",
       "      <th>3147</th>\n",
       "      <td>KOI-2939(AB) b</td>\n",
       "      <td>NaN</td>\n",
       "      <td>NaN</td>\n",
       "      <td>Warm</td>\n",
       "      <td>Jovian</td>\n",
       "      <td>gas</td>\n",
       "      <td>hydrogen-rich</td>\n",
       "      <td>non-habitable</td>\n",
       "      <td>NaN</td>\n",
       "      <td>483.27</td>\n",
       "      <td>...</td>\n",
       "      <td>NaN</td>\n",
       "      <td>0</td>\n",
       "      <td>0</td>\n",
       "      <td>0.34</td>\n",
       "      <td>0</td>\n",
       "      <td>0</td>\n",
       "      <td>0</td>\n",
       "      <td>1</td>\n",
       "      <td>Primary Transit</td>\n",
       "      <td>2015</td>\n",
       "    </tr>\n",
       "    <tr>\n",
       "      <th>3148</th>\n",
       "      <td>KOI-3791 b</td>\n",
       "      <td>NaN</td>\n",
       "      <td>NaN</td>\n",
       "      <td>Warm</td>\n",
       "      <td>Jovian</td>\n",
       "      <td>gas</td>\n",
       "      <td>hydrogen-rich</td>\n",
       "      <td>non-habitable</td>\n",
       "      <td>NaN</td>\n",
       "      <td>52.15</td>\n",
       "      <td>...</td>\n",
       "      <td>NaN</td>\n",
       "      <td>0</td>\n",
       "      <td>0</td>\n",
       "      <td>0.46</td>\n",
       "      <td>0</td>\n",
       "      <td>0</td>\n",
       "      <td>0</td>\n",
       "      <td>1</td>\n",
       "      <td>Primary Transit</td>\n",
       "      <td>2015</td>\n",
       "    </tr>\n",
       "    <tr>\n",
       "      <th>3149</th>\n",
       "      <td>KOI-4427 b</td>\n",
       "      <td>NaN</td>\n",
       "      <td>NaN</td>\n",
       "      <td>Warm</td>\n",
       "      <td>Superterran</td>\n",
       "      <td>rocky-iron</td>\n",
       "      <td>hydrogen-rich</td>\n",
       "      <td>hypopsychroplanet</td>\n",
       "      <td>NaN</td>\n",
       "      <td>7.43</td>\n",
       "      <td>...</td>\n",
       "      <td>0.0</td>\n",
       "      <td>0</td>\n",
       "      <td>0</td>\n",
       "      <td>0.52</td>\n",
       "      <td>0</td>\n",
       "      <td>1</td>\n",
       "      <td>0</td>\n",
       "      <td>0</td>\n",
       "      <td>transit</td>\n",
       "      <td>2015</td>\n",
       "    </tr>\n",
       "    <tr>\n",
       "      <th>3150</th>\n",
       "      <td>KOI-5833 b</td>\n",
       "      <td>NaN</td>\n",
       "      <td>NaN</td>\n",
       "      <td>Warm</td>\n",
       "      <td>Neptunian</td>\n",
       "      <td>gas</td>\n",
       "      <td>metals-rich</td>\n",
       "      <td>non-habitable</td>\n",
       "      <td>NaN</td>\n",
       "      <td>8.29</td>\n",
       "      <td>...</td>\n",
       "      <td>NaN</td>\n",
       "      <td>0</td>\n",
       "      <td>0</td>\n",
       "      <td>0.61</td>\n",
       "      <td>0</td>\n",
       "      <td>0</td>\n",
       "      <td>0</td>\n",
       "      <td>1</td>\n",
       "      <td>Primary Transit</td>\n",
       "      <td>2015</td>\n",
       "    </tr>\n",
       "    <tr>\n",
       "      <th>3151</th>\n",
       "      <td>KOI-5929 b</td>\n",
       "      <td>NaN</td>\n",
       "      <td>NaN</td>\n",
       "      <td>Warm</td>\n",
       "      <td>Neptunian</td>\n",
       "      <td>gas</td>\n",
       "      <td>metals-rich</td>\n",
       "      <td>non-habitable</td>\n",
       "      <td>NaN</td>\n",
       "      <td>14.16</td>\n",
       "      <td>...</td>\n",
       "      <td>NaN</td>\n",
       "      <td>0</td>\n",
       "      <td>0</td>\n",
       "      <td>0.52</td>\n",
       "      <td>0</td>\n",
       "      <td>0</td>\n",
       "      <td>0</td>\n",
       "      <td>1</td>\n",
       "      <td>Primary Transit</td>\n",
       "      <td>2015</td>\n",
       "    </tr>\n",
       "  </tbody>\n",
       "</table>\n",
       "<p>26 rows × 68 columns</p>\n",
       "</div>"
      ],
      "text/plain": [
       "             P. Name P. Name Kepler  P. Name KOI P. Zone Class P. Mass Class  \\\n",
       "3126        KOI-89 b            NaN          NaN           Hot     Neptunian   \n",
       "3127        KOI-89 c            NaN          NaN           Hot     Neptunian   \n",
       "3128       KOI-188 b            NaN          NaN           Hot        Jovian   \n",
       "3129       KOI-192 b            NaN          NaN           Hot        Jovian   \n",
       "3130       KOI-195 b            NaN          NaN           Hot        Jovian   \n",
       "3131       KOI-206 b            NaN          NaN           Hot        Jovian   \n",
       "3132    KOI-368.01 b            NaN          NaN           Hot        Jovian   \n",
       "3133       KOI-372 b            NaN          NaN           Hot        Jovian   \n",
       "3134       KOI-372 c            NaN          NaN          Warm     Neptunian   \n",
       "3135    KOI-620.02 b            NaN          NaN           Hot   Superterran   \n",
       "3136       KOI-680 b            NaN          NaN           Hot        Jovian   \n",
       "3137       KOI-682 b            NaN          NaN          Warm        Jovian   \n",
       "3138       KOI-771 b            NaN          NaN          Warm        Jovian   \n",
       "3139       KOI-830 b            NaN          NaN           Hot        Jovian   \n",
       "3140   KOI-1089.02 b            NaN          NaN           Hot        Jovian   \n",
       "3141    KOI-1257 A b            NaN          NaN           Hot        Jovian   \n",
       "3142      KOI-1299 c            NaN          NaN           Hot        Jovian   \n",
       "3143      KOI-1781 b            NaN          NaN           Hot   Superterran   \n",
       "3144      KOI-1843 b            NaN          NaN           Hot     Subterran   \n",
       "3145      KOI-2138 b            NaN          NaN           Hot   Superterran   \n",
       "3146      KOI-2700 b            NaN          NaN           Hot        Terran   \n",
       "3147  KOI-2939(AB) b            NaN          NaN          Warm        Jovian   \n",
       "3148      KOI-3791 b            NaN          NaN          Warm        Jovian   \n",
       "3149      KOI-4427 b            NaN          NaN          Warm   Superterran   \n",
       "3150      KOI-5833 b            NaN          NaN          Warm     Neptunian   \n",
       "3151      KOI-5929 b            NaN          NaN          Warm     Neptunian   \n",
       "\n",
       "     P. Composition Class P. Atmosphere Class P. Habitable Class  \\\n",
       "3126                  gas         metals-rich      non-habitable   \n",
       "3127                  gas         metals-rich      non-habitable   \n",
       "3128                  gas         metals-rich      non-habitable   \n",
       "3129                  gas         metals-rich      non-habitable   \n",
       "3130                  gas         metals-rich      non-habitable   \n",
       "3131                  gas       hydrogen-rich      non-habitable   \n",
       "3132                  NaN                 NaN      non-habitable   \n",
       "3133                  gas       hydrogen-rich      non-habitable   \n",
       "3134                  gas       hydrogen-rich      non-habitable   \n",
       "3135                  gas         metals-rich      non-habitable   \n",
       "3136                  gas       hydrogen-rich      non-habitable   \n",
       "3137                  gas       hydrogen-rich      non-habitable   \n",
       "3138                  NaN                 NaN      non-habitable   \n",
       "3139                  gas       hydrogen-rich      non-habitable   \n",
       "3140                  gas       hydrogen-rich      non-habitable   \n",
       "3141                  gas       hydrogen-rich      non-habitable   \n",
       "3142                  gas       hydrogen-rich      non-habitable   \n",
       "3143           rocky-iron         metals-rich      non-habitable   \n",
       "3144           rocky-iron       no-atmosphere      non-habitable   \n",
       "3145           rocky-iron         metals-rich      non-habitable   \n",
       "3146          rocky-water       no-atmosphere      non-habitable   \n",
       "3147                  gas       hydrogen-rich      non-habitable   \n",
       "3148                  gas       hydrogen-rich      non-habitable   \n",
       "3149           rocky-iron       hydrogen-rich  hypopsychroplanet   \n",
       "3150                  gas         metals-rich      non-habitable   \n",
       "3151                  gas         metals-rich      non-habitable   \n",
       "\n",
       "      P. Min Mass (EU)  P. Mass (EU)      ...        P. SPH  P. Int ESI  \\\n",
       "3126               NaN         25.44      ...           NaN           0   \n",
       "3127               NaN         22.20      ...           NaN           0   \n",
       "3128               NaN         79.49      ...           NaN           0   \n",
       "3129               NaN         92.20      ...           NaN           0   \n",
       "3130               NaN        108.10      ...           NaN           0   \n",
       "3131               NaN        922.03      ...           NaN           0   \n",
       "3132               NaN           NaN      ...           0.0           0   \n",
       "3133               NaN       1033.31      ...           NaN           0   \n",
       "3134             42.86         42.86      ...           NaN           0   \n",
       "3135               NaN          7.60      ...           NaN           0   \n",
       "3136               NaN        197.12      ...           NaN           0   \n",
       "3137               NaN        256.00      ...           NaN           0   \n",
       "3138               NaN           NaN      ...           0.0           0   \n",
       "3139               NaN        403.78      ...           NaN           0   \n",
       "3140               NaN        203.48      ...           NaN           0   \n",
       "3141               NaN        461.01      ...           NaN           0   \n",
       "3142            836.18        836.18      ...           NaN           0   \n",
       "3143               NaN          8.10      ...           0.0           0   \n",
       "3144               NaN          0.32      ...           0.0           0   \n",
       "3145               NaN         13.26      ...           0.0           0   \n",
       "3146               NaN          0.86      ...           0.0           0   \n",
       "3147               NaN        483.27      ...           NaN           0   \n",
       "3148               NaN         52.15      ...           NaN           0   \n",
       "3149               NaN          7.43      ...           0.0           0   \n",
       "3150               NaN          8.29      ...           NaN           0   \n",
       "3151               NaN         14.16      ...           NaN           0   \n",
       "\n",
       "      P. Surf ESI  P. ESI  S. HabCat P. Habitable P. Hab Moon P. Confirmed  \\\n",
       "3126            0    0.16          0            0           0            1   \n",
       "3127            0    0.20          0            0           0            1   \n",
       "3128            0    0.08          0            0           0            1   \n",
       "3129            0    0.07          0            0           0            1   \n",
       "3130            0    0.07          0            0           0            1   \n",
       "3131            0    0.11          0            0           0            1   \n",
       "3132            0    0.06          0            0           0            1   \n",
       "3133            0    0.25          0            0           0            1   \n",
       "3134            0    0.61          0            0           0            1   \n",
       "3135            0    0.31          0            0           0            1   \n",
       "3136            0    0.12          0            0           0            1   \n",
       "3137            0    0.41          0            0           0            1   \n",
       "3138            0    0.30          0            0           0            1   \n",
       "3139            0    0.08          0            0           0            1   \n",
       "3140            0    0.12          0            0           0            1   \n",
       "3141            0    0.17          0            0           0            1   \n",
       "3142            0    0.20          0            0           0            1   \n",
       "3143            0    0.27          0            0           0            1   \n",
       "3144            0    0.27          0            0           0            1   \n",
       "3145            0    0.25          0            0           0            1   \n",
       "3146            0    0.30          0            0           0            1   \n",
       "3147            0    0.34          0            0           0            1   \n",
       "3148            0    0.46          0            0           0            1   \n",
       "3149            0    0.52          0            1           0            0   \n",
       "3150            0    0.61          0            0           0            1   \n",
       "3151            0    0.52          0            0           0            1   \n",
       "\n",
       "      P. Disc. Method  P. Disc. Year  \n",
       "3126  Primary Transit           2015  \n",
       "3127  Primary Transit           2015  \n",
       "3128  Primary Transit           2014  \n",
       "3129  Primary Transit           2014  \n",
       "3130  Primary Transit           2014  \n",
       "3131  Primary Transit           2012  \n",
       "3132  Primary Transit           2014  \n",
       "3133  Primary Transit           2015  \n",
       "3134              TTV           2015  \n",
       "3135              TTV           2014  \n",
       "3136  Primary Transit           2012  \n",
       "3137  Primary Transit           2015  \n",
       "3138  Primary Transit           2015  \n",
       "3139  Primary Transit           2014  \n",
       "3140  Primary Transit           2014  \n",
       "3141  Primary Transit           2014  \n",
       "3142  Radial Velocity           2014  \n",
       "3143  Primary Transit           2013  \n",
       "3144  Primary Transit           2013  \n",
       "3145  Primary Transit           2015  \n",
       "3146  Primary Transit           2013  \n",
       "3147  Primary Transit           2015  \n",
       "3148  Primary Transit           2015  \n",
       "3149          transit           2015  \n",
       "3150  Primary Transit           2015  \n",
       "3151  Primary Transit           2015  \n",
       "\n",
       "[26 rows x 68 columns]"
      ]
     },
     "execution_count": 30,
     "metadata": {},
     "output_type": "execute_result"
    }
   ],
   "source": [
    "df[df['P. Name'].str.contains('KOI')]"
   ]
  },
  {
   "cell_type": "code",
   "execution_count": null,
   "metadata": {
    "collapsed": true
   },
   "outputs": [],
   "source": []
  }
 ],
 "metadata": {
  "kernelspec": {
   "display_name": "IPython (Python 3)",
   "language": "python",
   "name": "python3"
  },
  "language_info": {
   "codemirror_mode": {
    "name": "ipython",
    "version": 3
   },
   "file_extension": ".py",
   "mimetype": "text/x-python",
   "name": "python",
   "nbconvert_exporter": "python",
   "pygments_lexer": "ipython3",
   "version": "3.5.2"
  }
 },
 "nbformat": 4,
 "nbformat_minor": 0
}
